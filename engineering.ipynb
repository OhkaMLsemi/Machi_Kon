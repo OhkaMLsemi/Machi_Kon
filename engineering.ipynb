{
 "cells": [
  {
   "cell_type": "code",
   "execution_count": 1,
   "metadata": {
    "collapsed": true
   },
   "outputs": [],
   "source": [
    "import os\n",
    "\n",
    "mingw_path = 'C:\\\\Program Files\\\\mingw-w64\\\\x86_64-7.1.0-posix-seh-rt_v5-rev1\\\\mingw64\\\\bin'\n",
    "\n",
    "os.environ['PATH'] = mingw_path + ';' + os.environ['PATH']"
   ]
  },
  {
   "cell_type": "code",
   "execution_count": 2,
   "metadata": {},
   "outputs": [
    {
     "data": {
      "text/html": [
       "<script>requirejs.config({paths: { 'plotly': ['https://cdn.plot.ly/plotly-latest.min']},});if(!window.Plotly) {{require(['plotly'],function(plotly) {window.Plotly=plotly;});}}</script>"
      ],
      "text/vnd.plotly.v1+html": [
       "<script>requirejs.config({paths: { 'plotly': ['https://cdn.plot.ly/plotly-latest.min']},});if(!window.Plotly) {{require(['plotly'],function(plotly) {window.Plotly=plotly;});}}</script>"
      ]
     },
     "metadata": {},
     "output_type": "display_data"
    }
   ],
   "source": [
    "import pandas as pd\n",
    "import numpy as np\n",
    "import matplotlib.pyplot as plt\n",
    "import seaborn as sns\n",
    "import plotly.plotly as py\n",
    "import plotly.graph_objs as go\n",
    "import plotly\n",
    "plotly.offline.init_notebook_mode(connected=True)\n",
    "from datetime import datetime\n",
    "from pandas.tseries.offsets import *\n",
    "%matplotlib inline\n",
    "\n",
    "from sklearn.preprocessing import normalize\n",
    "from sklearn.preprocessing import OneHotEncoder, LabelEncoder\n",
    "from IPython.display import display"
   ]
  },
  {
   "cell_type": "code",
   "execution_count": 3,
   "metadata": {
    "collapsed": true
   },
   "outputs": [],
   "source": [
    "def prefecture_labeling(x):\n",
    "     #文字列をラベリング\n",
    "    label_encoder = LabelEncoder()\n",
    "    labels = [\"北海道\",\"青森県\",\"岩手県\",\"宮城県\",\"秋田県\", \n",
    "\"山形県\", \"福島県\", \"茨城県\",\"栃木県\",\"群馬県\", \n",
    "\"埼玉県\",\"千葉県\",\"東京都\",\"神奈川県\",\"新潟県\", \n",
    "\"富山県\",\"石川県\",\"福井県\",\"山梨県\",\"長野県\", \n",
    "\"岐阜県\",\"静岡県\",\"愛知県\",\"三重県\",\"滋賀県\", \n",
    "\"京都府\",\"大阪府\",\"兵庫県\",\"奈良県\",\"和歌山県\", \n",
    "\"鳥取県\",\"島根県\",\"岡山県\",\"広島県\",\"山口県\", \n",
    "\"徳島県\",\"香川県\",\"愛媛県\",\"高知県\",\"福岡県\", \n",
    "\"佐賀県\",\"長崎県\",\"熊本県\",\"大分県\",\"宮崎県\", \n",
    "\"鹿児島県\",\"沖縄県\",'その他（海外等）']\n",
    "    label_encoder.fit(labels)\n",
    "    le =label_encoder.transform(x)\n",
    "    \n",
    "    df = pd.DataFrame(le)\n",
    "    column_name = [\"prefecture\"]\n",
    "    df.columns = column_name\n",
    "    \n",
    "    return df\n",
    "    \n",
    "def gender_labeling(x):\n",
    "    \n",
    "    #文字列をラベリング\n",
    "    label_encoder = LabelEncoder()\n",
    "    labels = [\"女性\",\"男性\"]\n",
    "    label_encoder.fit(labels)\n",
    "    le = label_encoder.transform(x)\n",
    "    \n",
    "    df = pd.DataFrame(le)\n",
    "    column_name = [\"gender\"]\n",
    "    df.columns = column_name\n",
    "    \n",
    "    return df"
   ]
  },
  {
   "cell_type": "code",
   "execution_count": 4,
   "metadata": {
    "collapsed": true
   },
   "outputs": [],
   "source": [
    "df_ck = pd.DataFrame({\n",
    "        'prefecture'  : [\"北海道\",\"青森県\",\"岩手県\",\"宮城県\",\"秋田県\", \n",
    "\"山形県\", \"福島県\", \"茨城県\",\"栃木県\",\"群馬県\", \n",
    "\"埼玉県\",\"千葉県\",\"東京都\",\"神奈川県\",\"新潟県\", \n",
    "\"富山県\",\"石川県\",\"福井県\",\"山梨県\",\"長野県\", \n",
    "\"岐阜県\",\"静岡県\",\"愛知県\",\"三重県\",\"滋賀県\", \n",
    "\"京都府\",\"大阪府\",\"兵庫県\",\"奈良県\",\"和歌山県\", \n",
    "\"鳥取県\",\"島根県\",\"岡山県\",\"広島県\",\"山口県\", \n",
    "\"徳島県\",\"香川県\",\"愛媛県\",\"高知県\",\"福岡県\", \n",
    "\"佐賀県\",\"長崎県\",\"熊本県\",\"大分県\",\"宮崎県\", \n",
    "\"鹿児島県\",\"沖縄県\",'その他（海外等）'],\n",
    "    })"
   ]
  },
  {
   "cell_type": "code",
   "execution_count": 5,
   "metadata": {
    "scrolled": true
   },
   "outputs": [
    {
     "data": {
      "text/html": [
       "<div>\n",
       "<style>\n",
       "    .dataframe thead tr:only-child th {\n",
       "        text-align: right;\n",
       "    }\n",
       "\n",
       "    .dataframe thead th {\n",
       "        text-align: left;\n",
       "    }\n",
       "\n",
       "    .dataframe tbody tr th {\n",
       "        vertical-align: top;\n",
       "    }\n",
       "</style>\n",
       "<table border=\"1\" class=\"dataframe\">\n",
       "  <thead>\n",
       "    <tr style=\"text-align: right;\">\n",
       "      <th></th>\n",
       "      <th>prefecture</th>\n",
       "    </tr>\n",
       "  </thead>\n",
       "  <tbody>\n",
       "    <tr>\n",
       "      <th>0</th>\n",
       "      <td>北海道</td>\n",
       "    </tr>\n",
       "    <tr>\n",
       "      <th>1</th>\n",
       "      <td>青森県</td>\n",
       "    </tr>\n",
       "    <tr>\n",
       "      <th>2</th>\n",
       "      <td>岩手県</td>\n",
       "    </tr>\n",
       "    <tr>\n",
       "      <th>3</th>\n",
       "      <td>宮城県</td>\n",
       "    </tr>\n",
       "    <tr>\n",
       "      <th>4</th>\n",
       "      <td>秋田県</td>\n",
       "    </tr>\n",
       "    <tr>\n",
       "      <th>5</th>\n",
       "      <td>山形県</td>\n",
       "    </tr>\n",
       "    <tr>\n",
       "      <th>6</th>\n",
       "      <td>福島県</td>\n",
       "    </tr>\n",
       "    <tr>\n",
       "      <th>7</th>\n",
       "      <td>茨城県</td>\n",
       "    </tr>\n",
       "    <tr>\n",
       "      <th>8</th>\n",
       "      <td>栃木県</td>\n",
       "    </tr>\n",
       "    <tr>\n",
       "      <th>9</th>\n",
       "      <td>群馬県</td>\n",
       "    </tr>\n",
       "    <tr>\n",
       "      <th>10</th>\n",
       "      <td>埼玉県</td>\n",
       "    </tr>\n",
       "    <tr>\n",
       "      <th>11</th>\n",
       "      <td>千葉県</td>\n",
       "    </tr>\n",
       "    <tr>\n",
       "      <th>12</th>\n",
       "      <td>東京都</td>\n",
       "    </tr>\n",
       "    <tr>\n",
       "      <th>13</th>\n",
       "      <td>神奈川県</td>\n",
       "    </tr>\n",
       "    <tr>\n",
       "      <th>14</th>\n",
       "      <td>新潟県</td>\n",
       "    </tr>\n",
       "    <tr>\n",
       "      <th>15</th>\n",
       "      <td>富山県</td>\n",
       "    </tr>\n",
       "    <tr>\n",
       "      <th>16</th>\n",
       "      <td>石川県</td>\n",
       "    </tr>\n",
       "    <tr>\n",
       "      <th>17</th>\n",
       "      <td>福井県</td>\n",
       "    </tr>\n",
       "    <tr>\n",
       "      <th>18</th>\n",
       "      <td>山梨県</td>\n",
       "    </tr>\n",
       "    <tr>\n",
       "      <th>19</th>\n",
       "      <td>長野県</td>\n",
       "    </tr>\n",
       "    <tr>\n",
       "      <th>20</th>\n",
       "      <td>岐阜県</td>\n",
       "    </tr>\n",
       "    <tr>\n",
       "      <th>21</th>\n",
       "      <td>静岡県</td>\n",
       "    </tr>\n",
       "    <tr>\n",
       "      <th>22</th>\n",
       "      <td>愛知県</td>\n",
       "    </tr>\n",
       "    <tr>\n",
       "      <th>23</th>\n",
       "      <td>三重県</td>\n",
       "    </tr>\n",
       "    <tr>\n",
       "      <th>24</th>\n",
       "      <td>滋賀県</td>\n",
       "    </tr>\n",
       "    <tr>\n",
       "      <th>25</th>\n",
       "      <td>京都府</td>\n",
       "    </tr>\n",
       "    <tr>\n",
       "      <th>26</th>\n",
       "      <td>大阪府</td>\n",
       "    </tr>\n",
       "    <tr>\n",
       "      <th>27</th>\n",
       "      <td>兵庫県</td>\n",
       "    </tr>\n",
       "    <tr>\n",
       "      <th>28</th>\n",
       "      <td>奈良県</td>\n",
       "    </tr>\n",
       "    <tr>\n",
       "      <th>29</th>\n",
       "      <td>和歌山県</td>\n",
       "    </tr>\n",
       "    <tr>\n",
       "      <th>30</th>\n",
       "      <td>鳥取県</td>\n",
       "    </tr>\n",
       "    <tr>\n",
       "      <th>31</th>\n",
       "      <td>島根県</td>\n",
       "    </tr>\n",
       "    <tr>\n",
       "      <th>32</th>\n",
       "      <td>岡山県</td>\n",
       "    </tr>\n",
       "    <tr>\n",
       "      <th>33</th>\n",
       "      <td>広島県</td>\n",
       "    </tr>\n",
       "    <tr>\n",
       "      <th>34</th>\n",
       "      <td>山口県</td>\n",
       "    </tr>\n",
       "    <tr>\n",
       "      <th>35</th>\n",
       "      <td>徳島県</td>\n",
       "    </tr>\n",
       "    <tr>\n",
       "      <th>36</th>\n",
       "      <td>香川県</td>\n",
       "    </tr>\n",
       "    <tr>\n",
       "      <th>37</th>\n",
       "      <td>愛媛県</td>\n",
       "    </tr>\n",
       "    <tr>\n",
       "      <th>38</th>\n",
       "      <td>高知県</td>\n",
       "    </tr>\n",
       "    <tr>\n",
       "      <th>39</th>\n",
       "      <td>福岡県</td>\n",
       "    </tr>\n",
       "    <tr>\n",
       "      <th>40</th>\n",
       "      <td>佐賀県</td>\n",
       "    </tr>\n",
       "    <tr>\n",
       "      <th>41</th>\n",
       "      <td>長崎県</td>\n",
       "    </tr>\n",
       "    <tr>\n",
       "      <th>42</th>\n",
       "      <td>熊本県</td>\n",
       "    </tr>\n",
       "    <tr>\n",
       "      <th>43</th>\n",
       "      <td>大分県</td>\n",
       "    </tr>\n",
       "    <tr>\n",
       "      <th>44</th>\n",
       "      <td>宮崎県</td>\n",
       "    </tr>\n",
       "    <tr>\n",
       "      <th>45</th>\n",
       "      <td>鹿児島県</td>\n",
       "    </tr>\n",
       "    <tr>\n",
       "      <th>46</th>\n",
       "      <td>沖縄県</td>\n",
       "    </tr>\n",
       "    <tr>\n",
       "      <th>47</th>\n",
       "      <td>その他（海外等）</td>\n",
       "    </tr>\n",
       "  </tbody>\n",
       "</table>\n",
       "</div>"
      ],
      "text/plain": [
       "   prefecture\n",
       "0         北海道\n",
       "1         青森県\n",
       "2         岩手県\n",
       "3         宮城県\n",
       "4         秋田県\n",
       "5         山形県\n",
       "6         福島県\n",
       "7         茨城県\n",
       "8         栃木県\n",
       "9         群馬県\n",
       "10        埼玉県\n",
       "11        千葉県\n",
       "12        東京都\n",
       "13       神奈川県\n",
       "14        新潟県\n",
       "15        富山県\n",
       "16        石川県\n",
       "17        福井県\n",
       "18        山梨県\n",
       "19        長野県\n",
       "20        岐阜県\n",
       "21        静岡県\n",
       "22        愛知県\n",
       "23        三重県\n",
       "24        滋賀県\n",
       "25        京都府\n",
       "26        大阪府\n",
       "27        兵庫県\n",
       "28        奈良県\n",
       "29       和歌山県\n",
       "30        鳥取県\n",
       "31        島根県\n",
       "32        岡山県\n",
       "33        広島県\n",
       "34        山口県\n",
       "35        徳島県\n",
       "36        香川県\n",
       "37        愛媛県\n",
       "38        高知県\n",
       "39        福岡県\n",
       "40        佐賀県\n",
       "41        長崎県\n",
       "42        熊本県\n",
       "43        大分県\n",
       "44        宮崎県\n",
       "45       鹿児島県\n",
       "46        沖縄県\n",
       "47   その他（海外等）"
      ]
     },
     "execution_count": 5,
     "metadata": {},
     "output_type": "execute_result"
    }
   ],
   "source": [
    "df_ck"
   ]
  },
  {
   "cell_type": "code",
   "execution_count": 6,
   "metadata": {
    "scrolled": true
   },
   "outputs": [
    {
     "name": "stdout",
     "output_type": "stream",
     "text": [
      "(48, 1)\n"
     ]
    },
    {
     "data": {
      "text/html": [
       "<div>\n",
       "<style>\n",
       "    .dataframe thead tr:only-child th {\n",
       "        text-align: right;\n",
       "    }\n",
       "\n",
       "    .dataframe thead th {\n",
       "        text-align: left;\n",
       "    }\n",
       "\n",
       "    .dataframe tbody tr th {\n",
       "        vertical-align: top;\n",
       "    }\n",
       "</style>\n",
       "<table border=\"1\" class=\"dataframe\">\n",
       "  <thead>\n",
       "    <tr style=\"text-align: right;\">\n",
       "      <th></th>\n",
       "      <th>prefecture</th>\n",
       "    </tr>\n",
       "  </thead>\n",
       "  <tbody>\n",
       "    <tr>\n",
       "      <th>0</th>\n",
       "      <td>5</td>\n",
       "    </tr>\n",
       "    <tr>\n",
       "      <th>1</th>\n",
       "      <td>42</td>\n",
       "    </tr>\n",
       "    <tr>\n",
       "      <th>2</th>\n",
       "      <td>20</td>\n",
       "    </tr>\n",
       "    <tr>\n",
       "      <th>3</th>\n",
       "      <td>12</td>\n",
       "    </tr>\n",
       "    <tr>\n",
       "      <th>4</th>\n",
       "      <td>37</td>\n",
       "    </tr>\n",
       "    <tr>\n",
       "      <th>5</th>\n",
       "      <td>16</td>\n",
       "    </tr>\n",
       "    <tr>\n",
       "      <th>6</th>\n",
       "      <td>36</td>\n",
       "    </tr>\n",
       "    <tr>\n",
       "      <th>7</th>\n",
       "      <td>39</td>\n",
       "    </tr>\n",
       "    <tr>\n",
       "      <th>8</th>\n",
       "      <td>28</td>\n",
       "    </tr>\n",
       "    <tr>\n",
       "      <th>9</th>\n",
       "      <td>38</td>\n",
       "    </tr>\n",
       "    <tr>\n",
       "      <th>10</th>\n",
       "      <td>8</td>\n",
       "    </tr>\n",
       "    <tr>\n",
       "      <th>11</th>\n",
       "      <td>6</td>\n",
       "    </tr>\n",
       "    <tr>\n",
       "      <th>12</th>\n",
       "      <td>27</td>\n",
       "    </tr>\n",
       "    <tr>\n",
       "      <th>13</th>\n",
       "      <td>33</td>\n",
       "    </tr>\n",
       "    <tr>\n",
       "      <th>14</th>\n",
       "      <td>26</td>\n",
       "    </tr>\n",
       "    <tr>\n",
       "      <th>15</th>\n",
       "      <td>14</td>\n",
       "    </tr>\n",
       "    <tr>\n",
       "      <th>16</th>\n",
       "      <td>32</td>\n",
       "    </tr>\n",
       "    <tr>\n",
       "      <th>17</th>\n",
       "      <td>34</td>\n",
       "    </tr>\n",
       "    <tr>\n",
       "      <th>18</th>\n",
       "      <td>17</td>\n",
       "    </tr>\n",
       "    <tr>\n",
       "      <th>19</th>\n",
       "      <td>41</td>\n",
       "    </tr>\n",
       "    <tr>\n",
       "      <th>20</th>\n",
       "      <td>18</td>\n",
       "    </tr>\n",
       "    <tr>\n",
       "      <th>21</th>\n",
       "      <td>43</td>\n",
       "    </tr>\n",
       "    <tr>\n",
       "      <th>22</th>\n",
       "      <td>25</td>\n",
       "    </tr>\n",
       "    <tr>\n",
       "      <th>23</th>\n",
       "      <td>1</td>\n",
       "    </tr>\n",
       "    <tr>\n",
       "      <th>24</th>\n",
       "      <td>30</td>\n",
       "    </tr>\n",
       "    <tr>\n",
       "      <th>25</th>\n",
       "      <td>2</td>\n",
       "    </tr>\n",
       "    <tr>\n",
       "      <th>26</th>\n",
       "      <td>10</td>\n",
       "    </tr>\n",
       "    <tr>\n",
       "      <th>27</th>\n",
       "      <td>4</td>\n",
       "    </tr>\n",
       "    <tr>\n",
       "      <th>28</th>\n",
       "      <td>11</td>\n",
       "    </tr>\n",
       "    <tr>\n",
       "      <th>29</th>\n",
       "      <td>7</td>\n",
       "    </tr>\n",
       "    <tr>\n",
       "      <th>30</th>\n",
       "      <td>46</td>\n",
       "    </tr>\n",
       "    <tr>\n",
       "      <th>31</th>\n",
       "      <td>21</td>\n",
       "    </tr>\n",
       "    <tr>\n",
       "      <th>32</th>\n",
       "      <td>19</td>\n",
       "    </tr>\n",
       "    <tr>\n",
       "      <th>33</th>\n",
       "      <td>22</td>\n",
       "    </tr>\n",
       "    <tr>\n",
       "      <th>34</th>\n",
       "      <td>15</td>\n",
       "    </tr>\n",
       "    <tr>\n",
       "      <th>35</th>\n",
       "      <td>23</td>\n",
       "    </tr>\n",
       "    <tr>\n",
       "      <th>36</th>\n",
       "      <td>44</td>\n",
       "    </tr>\n",
       "    <tr>\n",
       "      <th>37</th>\n",
       "      <td>24</td>\n",
       "    </tr>\n",
       "    <tr>\n",
       "      <th>38</th>\n",
       "      <td>45</td>\n",
       "    </tr>\n",
       "    <tr>\n",
       "      <th>39</th>\n",
       "      <td>35</td>\n",
       "    </tr>\n",
       "    <tr>\n",
       "      <th>40</th>\n",
       "      <td>3</td>\n",
       "    </tr>\n",
       "    <tr>\n",
       "      <th>41</th>\n",
       "      <td>40</td>\n",
       "    </tr>\n",
       "    <tr>\n",
       "      <th>42</th>\n",
       "      <td>31</td>\n",
       "    </tr>\n",
       "    <tr>\n",
       "      <th>43</th>\n",
       "      <td>9</td>\n",
       "    </tr>\n",
       "    <tr>\n",
       "      <th>44</th>\n",
       "      <td>13</td>\n",
       "    </tr>\n",
       "    <tr>\n",
       "      <th>45</th>\n",
       "      <td>47</td>\n",
       "    </tr>\n",
       "    <tr>\n",
       "      <th>46</th>\n",
       "      <td>29</td>\n",
       "    </tr>\n",
       "    <tr>\n",
       "      <th>47</th>\n",
       "      <td>0</td>\n",
       "    </tr>\n",
       "  </tbody>\n",
       "</table>\n",
       "</div>"
      ],
      "text/plain": [
       "    prefecture\n",
       "0            5\n",
       "1           42\n",
       "2           20\n",
       "3           12\n",
       "4           37\n",
       "5           16\n",
       "6           36\n",
       "7           39\n",
       "8           28\n",
       "9           38\n",
       "10           8\n",
       "11           6\n",
       "12          27\n",
       "13          33\n",
       "14          26\n",
       "15          14\n",
       "16          32\n",
       "17          34\n",
       "18          17\n",
       "19          41\n",
       "20          18\n",
       "21          43\n",
       "22          25\n",
       "23           1\n",
       "24          30\n",
       "25           2\n",
       "26          10\n",
       "27           4\n",
       "28          11\n",
       "29           7\n",
       "30          46\n",
       "31          21\n",
       "32          19\n",
       "33          22\n",
       "34          15\n",
       "35          23\n",
       "36          44\n",
       "37          24\n",
       "38          45\n",
       "39          35\n",
       "40           3\n",
       "41          40\n",
       "42          31\n",
       "43           9\n",
       "44          13\n",
       "45          47\n",
       "46          29\n",
       "47           0"
      ]
     },
     "execution_count": 6,
     "metadata": {},
     "output_type": "execute_result"
    }
   ],
   "source": [
    "pre = prefecture_labeling(df_ck[\"prefecture\"])\n",
    "print(pre.shape)\n",
    "pre"
   ]
  },
  {
   "cell_type": "markdown",
   "metadata": {},
   "source": [
    "データ読み込み"
   ]
  },
  {
   "cell_type": "code",
   "execution_count": 7,
   "metadata": {
    "collapsed": true
   },
   "outputs": [],
   "source": [
    "log = pd.read_csv('log.tsv',delimiter=\"\\t\")\n",
    "events = pd.read_csv('events.tsv', delimiter=\"\\t\")\n",
    "users = pd.read_csv('users.tsv', delimiter=\"\\t\")\n",
    "os.chdir('..')"
   ]
  },
  {
   "cell_type": "code",
   "execution_count": 8,
   "metadata": {
    "collapsed": true
   },
   "outputs": [],
   "source": [
    "merge1 = pd.merge(log,events, on =\"event_id\") "
   ]
  },
  {
   "cell_type": "code",
   "execution_count": 9,
   "metadata": {
    "collapsed": true
   },
   "outputs": [],
   "source": [
    "merge2 = pd.merge(merge1,users, on =\"user_id\")"
   ]
  },
  {
   "cell_type": "code",
   "execution_count": 10,
   "metadata": {},
   "outputs": [
    {
     "data": {
      "text/html": [
       "<div>\n",
       "<style>\n",
       "    .dataframe thead tr:only-child th {\n",
       "        text-align: right;\n",
       "    }\n",
       "\n",
       "    .dataframe thead th {\n",
       "        text-align: left;\n",
       "    }\n",
       "\n",
       "    .dataframe tbody tr th {\n",
       "        vertical-align: top;\n",
       "    }\n",
       "</style>\n",
       "<table border=\"1\" class=\"dataframe\">\n",
       "  <thead>\n",
       "    <tr style=\"text-align: right;\">\n",
       "      <th></th>\n",
       "      <th>user_id</th>\n",
       "      <th>event_id</th>\n",
       "      <th>time_stamp</th>\n",
       "      <th>action_type</th>\n",
       "      <th>num_of_people</th>\n",
       "      <th>payment_method</th>\n",
       "      <th>total_price</th>\n",
       "      <th>female_age_lower</th>\n",
       "      <th>female_age_upper</th>\n",
       "      <th>male_age_lower</th>\n",
       "      <th>...</th>\n",
       "      <th>event_start_at</th>\n",
       "      <th>event_prefecture</th>\n",
       "      <th>first_published_at</th>\n",
       "      <th>female_price</th>\n",
       "      <th>male_price</th>\n",
       "      <th>interest</th>\n",
       "      <th>age</th>\n",
       "      <th>gender</th>\n",
       "      <th>user_prefecture</th>\n",
       "      <th>created_on</th>\n",
       "    </tr>\n",
       "  </thead>\n",
       "  <tbody>\n",
       "    <tr>\n",
       "      <th>0</th>\n",
       "      <td>1</td>\n",
       "      <td>6261</td>\n",
       "      <td>2015-03-19 09:15:50</td>\n",
       "      <td>3</td>\n",
       "      <td>1.0</td>\n",
       "      <td>クレカ</td>\n",
       "      <td>4000.0</td>\n",
       "      <td>27</td>\n",
       "      <td>39.0</td>\n",
       "      <td>27</td>\n",
       "      <td>...</td>\n",
       "      <td>2015-03-22 14:00:00</td>\n",
       "      <td>東京都</td>\n",
       "      <td>NaN</td>\n",
       "      <td>4000.0</td>\n",
       "      <td>6500.0</td>\n",
       "      <td>NaN</td>\n",
       "      <td>34</td>\n",
       "      <td>女性</td>\n",
       "      <td>静岡県</td>\n",
       "      <td>2012-06-26</td>\n",
       "    </tr>\n",
       "    <tr>\n",
       "      <th>1</th>\n",
       "      <td>1</td>\n",
       "      <td>127600</td>\n",
       "      <td>2017-06-05 12:33:17</td>\n",
       "      <td>1</td>\n",
       "      <td>NaN</td>\n",
       "      <td>NaN</td>\n",
       "      <td>NaN</td>\n",
       "      <td>24</td>\n",
       "      <td>36.0</td>\n",
       "      <td>26</td>\n",
       "      <td>...</td>\n",
       "      <td>2017-06-11 10:00:00</td>\n",
       "      <td>埼玉県</td>\n",
       "      <td>2017-05-01 14:57:33</td>\n",
       "      <td>2000.0</td>\n",
       "      <td>6000.0</td>\n",
       "      <td>NaN</td>\n",
       "      <td>34</td>\n",
       "      <td>女性</td>\n",
       "      <td>静岡県</td>\n",
       "      <td>2012-06-26</td>\n",
       "    </tr>\n",
       "    <tr>\n",
       "      <th>2</th>\n",
       "      <td>1</td>\n",
       "      <td>127600</td>\n",
       "      <td>2017-06-05 12:37:09</td>\n",
       "      <td>1</td>\n",
       "      <td>NaN</td>\n",
       "      <td>NaN</td>\n",
       "      <td>NaN</td>\n",
       "      <td>24</td>\n",
       "      <td>36.0</td>\n",
       "      <td>26</td>\n",
       "      <td>...</td>\n",
       "      <td>2017-06-11 10:00:00</td>\n",
       "      <td>埼玉県</td>\n",
       "      <td>2017-05-01 14:57:33</td>\n",
       "      <td>2000.0</td>\n",
       "      <td>6000.0</td>\n",
       "      <td>NaN</td>\n",
       "      <td>34</td>\n",
       "      <td>女性</td>\n",
       "      <td>静岡県</td>\n",
       "      <td>2012-06-26</td>\n",
       "    </tr>\n",
       "    <tr>\n",
       "      <th>3</th>\n",
       "      <td>1</td>\n",
       "      <td>127600</td>\n",
       "      <td>2017-06-05 12:32:04</td>\n",
       "      <td>1</td>\n",
       "      <td>NaN</td>\n",
       "      <td>NaN</td>\n",
       "      <td>NaN</td>\n",
       "      <td>24</td>\n",
       "      <td>36.0</td>\n",
       "      <td>26</td>\n",
       "      <td>...</td>\n",
       "      <td>2017-06-11 10:00:00</td>\n",
       "      <td>埼玉県</td>\n",
       "      <td>2017-05-01 14:57:33</td>\n",
       "      <td>2000.0</td>\n",
       "      <td>6000.0</td>\n",
       "      <td>NaN</td>\n",
       "      <td>34</td>\n",
       "      <td>女性</td>\n",
       "      <td>静岡県</td>\n",
       "      <td>2012-06-26</td>\n",
       "    </tr>\n",
       "    <tr>\n",
       "      <th>4</th>\n",
       "      <td>1</td>\n",
       "      <td>127600</td>\n",
       "      <td>2017-06-06 09:37:45</td>\n",
       "      <td>1</td>\n",
       "      <td>NaN</td>\n",
       "      <td>NaN</td>\n",
       "      <td>NaN</td>\n",
       "      <td>24</td>\n",
       "      <td>36.0</td>\n",
       "      <td>26</td>\n",
       "      <td>...</td>\n",
       "      <td>2017-06-11 10:00:00</td>\n",
       "      <td>埼玉県</td>\n",
       "      <td>2017-05-01 14:57:33</td>\n",
       "      <td>2000.0</td>\n",
       "      <td>6000.0</td>\n",
       "      <td>NaN</td>\n",
       "      <td>34</td>\n",
       "      <td>女性</td>\n",
       "      <td>静岡県</td>\n",
       "      <td>2012-06-26</td>\n",
       "    </tr>\n",
       "  </tbody>\n",
       "</table>\n",
       "<p>5 rows × 21 columns</p>\n",
       "</div>"
      ],
      "text/plain": [
       "   user_id  event_id           time_stamp  action_type  num_of_people  \\\n",
       "0        1      6261  2015-03-19 09:15:50            3            1.0   \n",
       "1        1    127600  2017-06-05 12:33:17            1            NaN   \n",
       "2        1    127600  2017-06-05 12:37:09            1            NaN   \n",
       "3        1    127600  2017-06-05 12:32:04            1            NaN   \n",
       "4        1    127600  2017-06-06 09:37:45            1            NaN   \n",
       "\n",
       "  payment_method  total_price  female_age_lower  female_age_upper  \\\n",
       "0            クレカ       4000.0                27              39.0   \n",
       "1            NaN          NaN                24              36.0   \n",
       "2            NaN          NaN                24              36.0   \n",
       "3            NaN          NaN                24              36.0   \n",
       "4            NaN          NaN                24              36.0   \n",
       "\n",
       "   male_age_lower     ...           event_start_at event_prefecture  \\\n",
       "0              27     ...      2015-03-22 14:00:00              東京都   \n",
       "1              26     ...      2017-06-11 10:00:00              埼玉県   \n",
       "2              26     ...      2017-06-11 10:00:00              埼玉県   \n",
       "3              26     ...      2017-06-11 10:00:00              埼玉県   \n",
       "4              26     ...      2017-06-11 10:00:00              埼玉県   \n",
       "\n",
       "    first_published_at female_price  male_price  interest age  gender  \\\n",
       "0                  NaN       4000.0      6500.0       NaN  34      女性   \n",
       "1  2017-05-01 14:57:33       2000.0      6000.0       NaN  34      女性   \n",
       "2  2017-05-01 14:57:33       2000.0      6000.0       NaN  34      女性   \n",
       "3  2017-05-01 14:57:33       2000.0      6000.0       NaN  34      女性   \n",
       "4  2017-05-01 14:57:33       2000.0      6000.0       NaN  34      女性   \n",
       "\n",
       "  user_prefecture  created_on  \n",
       "0             静岡県  2012-06-26  \n",
       "1             静岡県  2012-06-26  \n",
       "2             静岡県  2012-06-26  \n",
       "3             静岡県  2012-06-26  \n",
       "4             静岡県  2012-06-26  \n",
       "\n",
       "[5 rows x 21 columns]"
      ]
     },
     "execution_count": 10,
     "metadata": {},
     "output_type": "execute_result"
    }
   ],
   "source": [
    "merge2 = merge2.rename(columns = {\"prefecture_x\": \"event_prefecture\", \"prefecture_y\":\"user_prefecture\"})\n",
    "merge2.head()"
   ]
  },
  {
   "cell_type": "markdown",
   "metadata": {},
   "source": [
    "# 特徴量を数値化"
   ]
  },
  {
   "cell_type": "code",
   "execution_count": 11,
   "metadata": {},
   "outputs": [
    {
     "data": {
      "text/html": [
       "<div>\n",
       "<style>\n",
       "    .dataframe thead tr:only-child th {\n",
       "        text-align: right;\n",
       "    }\n",
       "\n",
       "    .dataframe thead th {\n",
       "        text-align: left;\n",
       "    }\n",
       "\n",
       "    .dataframe tbody tr th {\n",
       "        vertical-align: top;\n",
       "    }\n",
       "</style>\n",
       "<table border=\"1\" class=\"dataframe\">\n",
       "  <thead>\n",
       "    <tr style=\"text-align: right;\">\n",
       "      <th></th>\n",
       "      <th>user_id</th>\n",
       "      <th>event_id</th>\n",
       "      <th>time_stamp</th>\n",
       "      <th>action_type</th>\n",
       "      <th>num_of_people</th>\n",
       "      <th>payment_method</th>\n",
       "      <th>total_price</th>\n",
       "      <th>female_age_lower</th>\n",
       "      <th>female_age_upper</th>\n",
       "      <th>male_age_lower</th>\n",
       "      <th>...</th>\n",
       "      <th>age</th>\n",
       "      <th>gender</th>\n",
       "      <th>user_prefecture</th>\n",
       "      <th>created_on</th>\n",
       "      <th>event_date</th>\n",
       "      <th>event_year</th>\n",
       "      <th>event_month</th>\n",
       "      <th>event_day</th>\n",
       "      <th>event_weekday</th>\n",
       "      <th>event_hour</th>\n",
       "    </tr>\n",
       "  </thead>\n",
       "  <tbody>\n",
       "    <tr>\n",
       "      <th>0</th>\n",
       "      <td>1</td>\n",
       "      <td>6261</td>\n",
       "      <td>2015-03-19 09:15:50</td>\n",
       "      <td>3</td>\n",
       "      <td>1.0</td>\n",
       "      <td>クレカ</td>\n",
       "      <td>4000.0</td>\n",
       "      <td>27</td>\n",
       "      <td>39.0</td>\n",
       "      <td>27</td>\n",
       "      <td>...</td>\n",
       "      <td>34</td>\n",
       "      <td>女性</td>\n",
       "      <td>静岡県</td>\n",
       "      <td>2012-06-26</td>\n",
       "      <td>2015-03-22 14:00:00</td>\n",
       "      <td>2015</td>\n",
       "      <td>3</td>\n",
       "      <td>22</td>\n",
       "      <td>6</td>\n",
       "      <td>14</td>\n",
       "    </tr>\n",
       "    <tr>\n",
       "      <th>1</th>\n",
       "      <td>1</td>\n",
       "      <td>127600</td>\n",
       "      <td>2017-06-05 12:33:17</td>\n",
       "      <td>1</td>\n",
       "      <td>NaN</td>\n",
       "      <td>NaN</td>\n",
       "      <td>NaN</td>\n",
       "      <td>24</td>\n",
       "      <td>36.0</td>\n",
       "      <td>26</td>\n",
       "      <td>...</td>\n",
       "      <td>34</td>\n",
       "      <td>女性</td>\n",
       "      <td>静岡県</td>\n",
       "      <td>2012-06-26</td>\n",
       "      <td>2017-06-11 10:00:00</td>\n",
       "      <td>2017</td>\n",
       "      <td>6</td>\n",
       "      <td>11</td>\n",
       "      <td>6</td>\n",
       "      <td>10</td>\n",
       "    </tr>\n",
       "    <tr>\n",
       "      <th>2</th>\n",
       "      <td>1</td>\n",
       "      <td>127600</td>\n",
       "      <td>2017-06-05 12:37:09</td>\n",
       "      <td>1</td>\n",
       "      <td>NaN</td>\n",
       "      <td>NaN</td>\n",
       "      <td>NaN</td>\n",
       "      <td>24</td>\n",
       "      <td>36.0</td>\n",
       "      <td>26</td>\n",
       "      <td>...</td>\n",
       "      <td>34</td>\n",
       "      <td>女性</td>\n",
       "      <td>静岡県</td>\n",
       "      <td>2012-06-26</td>\n",
       "      <td>2017-06-11 10:00:00</td>\n",
       "      <td>2017</td>\n",
       "      <td>6</td>\n",
       "      <td>11</td>\n",
       "      <td>6</td>\n",
       "      <td>10</td>\n",
       "    </tr>\n",
       "    <tr>\n",
       "      <th>3</th>\n",
       "      <td>1</td>\n",
       "      <td>127600</td>\n",
       "      <td>2017-06-05 12:32:04</td>\n",
       "      <td>1</td>\n",
       "      <td>NaN</td>\n",
       "      <td>NaN</td>\n",
       "      <td>NaN</td>\n",
       "      <td>24</td>\n",
       "      <td>36.0</td>\n",
       "      <td>26</td>\n",
       "      <td>...</td>\n",
       "      <td>34</td>\n",
       "      <td>女性</td>\n",
       "      <td>静岡県</td>\n",
       "      <td>2012-06-26</td>\n",
       "      <td>2017-06-11 10:00:00</td>\n",
       "      <td>2017</td>\n",
       "      <td>6</td>\n",
       "      <td>11</td>\n",
       "      <td>6</td>\n",
       "      <td>10</td>\n",
       "    </tr>\n",
       "    <tr>\n",
       "      <th>4</th>\n",
       "      <td>1</td>\n",
       "      <td>127600</td>\n",
       "      <td>2017-06-06 09:37:45</td>\n",
       "      <td>1</td>\n",
       "      <td>NaN</td>\n",
       "      <td>NaN</td>\n",
       "      <td>NaN</td>\n",
       "      <td>24</td>\n",
       "      <td>36.0</td>\n",
       "      <td>26</td>\n",
       "      <td>...</td>\n",
       "      <td>34</td>\n",
       "      <td>女性</td>\n",
       "      <td>静岡県</td>\n",
       "      <td>2012-06-26</td>\n",
       "      <td>2017-06-11 10:00:00</td>\n",
       "      <td>2017</td>\n",
       "      <td>6</td>\n",
       "      <td>11</td>\n",
       "      <td>6</td>\n",
       "      <td>10</td>\n",
       "    </tr>\n",
       "  </tbody>\n",
       "</table>\n",
       "<p>5 rows × 27 columns</p>\n",
       "</div>"
      ],
      "text/plain": [
       "   user_id  event_id           time_stamp  action_type  num_of_people  \\\n",
       "0        1      6261  2015-03-19 09:15:50            3            1.0   \n",
       "1        1    127600  2017-06-05 12:33:17            1            NaN   \n",
       "2        1    127600  2017-06-05 12:37:09            1            NaN   \n",
       "3        1    127600  2017-06-05 12:32:04            1            NaN   \n",
       "4        1    127600  2017-06-06 09:37:45            1            NaN   \n",
       "\n",
       "  payment_method  total_price  female_age_lower  female_age_upper  \\\n",
       "0            クレカ       4000.0                27              39.0   \n",
       "1            NaN          NaN                24              36.0   \n",
       "2            NaN          NaN                24              36.0   \n",
       "3            NaN          NaN                24              36.0   \n",
       "4            NaN          NaN                24              36.0   \n",
       "\n",
       "   male_age_lower    ...      age gender user_prefecture  created_on  \\\n",
       "0              27    ...       34     女性             静岡県  2012-06-26   \n",
       "1              26    ...       34     女性             静岡県  2012-06-26   \n",
       "2              26    ...       34     女性             静岡県  2012-06-26   \n",
       "3              26    ...       34     女性             静岡県  2012-06-26   \n",
       "4              26    ...       34     女性             静岡県  2012-06-26   \n",
       "\n",
       "           event_date  event_year event_month  event_day event_weekday  \\\n",
       "0 2015-03-22 14:00:00        2015           3         22             6   \n",
       "1 2017-06-11 10:00:00        2017           6         11             6   \n",
       "2 2017-06-11 10:00:00        2017           6         11             6   \n",
       "3 2017-06-11 10:00:00        2017           6         11             6   \n",
       "4 2017-06-11 10:00:00        2017           6         11             6   \n",
       "\n",
       "  event_hour  \n",
       "0         14  \n",
       "1         10  \n",
       "2         10  \n",
       "3         10  \n",
       "4         10  \n",
       "\n",
       "[5 rows x 27 columns]"
      ]
     },
     "execution_count": 11,
     "metadata": {},
     "output_type": "execute_result"
    }
   ],
   "source": [
    "merge2.loc[:,\"event_date\"] = pd.to_datetime(merge2[\"event_start_at\"])\n",
    "merge2.loc[:,\"event_year\"] = merge2.loc[:,\"event_date\"].apply(lambda x:str(x.year))\n",
    "merge2.loc[:,\"event_month\"] = merge2.loc[:,\"event_date\"].apply(lambda x:str(x.month))\n",
    "merge2.loc[:,\"event_day\"] = merge2.loc[:,\"event_date\"].apply(lambda x:str(x.day))\n",
    "merge2.loc[:,\"event_weekday\"] = merge2.loc[:,\"event_date\"].apply(lambda x:str(x.dayofweek))\n",
    "merge2.loc[:,\"event_hour\"] = merge2.loc[:,\"event_date\"].apply(lambda x:str(x.hour))\n",
    "\n",
    "merge2.head()"
   ]
  },
  {
   "cell_type": "code",
   "execution_count": 12,
   "metadata": {},
   "outputs": [
    {
     "data": {
      "text/html": [
       "<div>\n",
       "<style>\n",
       "    .dataframe thead tr:only-child th {\n",
       "        text-align: right;\n",
       "    }\n",
       "\n",
       "    .dataframe thead th {\n",
       "        text-align: left;\n",
       "    }\n",
       "\n",
       "    .dataframe tbody tr th {\n",
       "        vertical-align: top;\n",
       "    }\n",
       "</style>\n",
       "<table border=\"1\" class=\"dataframe\">\n",
       "  <thead>\n",
       "    <tr style=\"text-align: right;\">\n",
       "      <th></th>\n",
       "      <th>user_id</th>\n",
       "      <th>event_id</th>\n",
       "      <th>time_stamp</th>\n",
       "      <th>action_type</th>\n",
       "      <th>num_of_people</th>\n",
       "      <th>payment_method</th>\n",
       "      <th>total_price</th>\n",
       "      <th>female_age_lower</th>\n",
       "      <th>female_age_upper</th>\n",
       "      <th>male_age_lower</th>\n",
       "      <th>...</th>\n",
       "      <th>created_on</th>\n",
       "      <th>event_date</th>\n",
       "      <th>event_year</th>\n",
       "      <th>event_month</th>\n",
       "      <th>event_day</th>\n",
       "      <th>event_weekday</th>\n",
       "      <th>event_hour</th>\n",
       "      <th>user_date</th>\n",
       "      <th>user_year</th>\n",
       "      <th>user_month</th>\n",
       "    </tr>\n",
       "  </thead>\n",
       "  <tbody>\n",
       "    <tr>\n",
       "      <th>0</th>\n",
       "      <td>1</td>\n",
       "      <td>6261</td>\n",
       "      <td>2015-03-19 09:15:50</td>\n",
       "      <td>3</td>\n",
       "      <td>1.0</td>\n",
       "      <td>クレカ</td>\n",
       "      <td>4000.0</td>\n",
       "      <td>27</td>\n",
       "      <td>39.0</td>\n",
       "      <td>27</td>\n",
       "      <td>...</td>\n",
       "      <td>2012-06-26</td>\n",
       "      <td>2015-03-22 14:00:00</td>\n",
       "      <td>2015</td>\n",
       "      <td>3</td>\n",
       "      <td>22</td>\n",
       "      <td>6</td>\n",
       "      <td>14</td>\n",
       "      <td>2012-06-26</td>\n",
       "      <td>2012</td>\n",
       "      <td>6</td>\n",
       "    </tr>\n",
       "    <tr>\n",
       "      <th>1</th>\n",
       "      <td>1</td>\n",
       "      <td>127600</td>\n",
       "      <td>2017-06-05 12:33:17</td>\n",
       "      <td>1</td>\n",
       "      <td>NaN</td>\n",
       "      <td>NaN</td>\n",
       "      <td>NaN</td>\n",
       "      <td>24</td>\n",
       "      <td>36.0</td>\n",
       "      <td>26</td>\n",
       "      <td>...</td>\n",
       "      <td>2012-06-26</td>\n",
       "      <td>2017-06-11 10:00:00</td>\n",
       "      <td>2017</td>\n",
       "      <td>6</td>\n",
       "      <td>11</td>\n",
       "      <td>6</td>\n",
       "      <td>10</td>\n",
       "      <td>2012-06-26</td>\n",
       "      <td>2012</td>\n",
       "      <td>6</td>\n",
       "    </tr>\n",
       "    <tr>\n",
       "      <th>2</th>\n",
       "      <td>1</td>\n",
       "      <td>127600</td>\n",
       "      <td>2017-06-05 12:37:09</td>\n",
       "      <td>1</td>\n",
       "      <td>NaN</td>\n",
       "      <td>NaN</td>\n",
       "      <td>NaN</td>\n",
       "      <td>24</td>\n",
       "      <td>36.0</td>\n",
       "      <td>26</td>\n",
       "      <td>...</td>\n",
       "      <td>2012-06-26</td>\n",
       "      <td>2017-06-11 10:00:00</td>\n",
       "      <td>2017</td>\n",
       "      <td>6</td>\n",
       "      <td>11</td>\n",
       "      <td>6</td>\n",
       "      <td>10</td>\n",
       "      <td>2012-06-26</td>\n",
       "      <td>2012</td>\n",
       "      <td>6</td>\n",
       "    </tr>\n",
       "    <tr>\n",
       "      <th>3</th>\n",
       "      <td>1</td>\n",
       "      <td>127600</td>\n",
       "      <td>2017-06-05 12:32:04</td>\n",
       "      <td>1</td>\n",
       "      <td>NaN</td>\n",
       "      <td>NaN</td>\n",
       "      <td>NaN</td>\n",
       "      <td>24</td>\n",
       "      <td>36.0</td>\n",
       "      <td>26</td>\n",
       "      <td>...</td>\n",
       "      <td>2012-06-26</td>\n",
       "      <td>2017-06-11 10:00:00</td>\n",
       "      <td>2017</td>\n",
       "      <td>6</td>\n",
       "      <td>11</td>\n",
       "      <td>6</td>\n",
       "      <td>10</td>\n",
       "      <td>2012-06-26</td>\n",
       "      <td>2012</td>\n",
       "      <td>6</td>\n",
       "    </tr>\n",
       "    <tr>\n",
       "      <th>4</th>\n",
       "      <td>1</td>\n",
       "      <td>127600</td>\n",
       "      <td>2017-06-06 09:37:45</td>\n",
       "      <td>1</td>\n",
       "      <td>NaN</td>\n",
       "      <td>NaN</td>\n",
       "      <td>NaN</td>\n",
       "      <td>24</td>\n",
       "      <td>36.0</td>\n",
       "      <td>26</td>\n",
       "      <td>...</td>\n",
       "      <td>2012-06-26</td>\n",
       "      <td>2017-06-11 10:00:00</td>\n",
       "      <td>2017</td>\n",
       "      <td>6</td>\n",
       "      <td>11</td>\n",
       "      <td>6</td>\n",
       "      <td>10</td>\n",
       "      <td>2012-06-26</td>\n",
       "      <td>2012</td>\n",
       "      <td>6</td>\n",
       "    </tr>\n",
       "  </tbody>\n",
       "</table>\n",
       "<p>5 rows × 30 columns</p>\n",
       "</div>"
      ],
      "text/plain": [
       "   user_id  event_id           time_stamp  action_type  num_of_people  \\\n",
       "0        1      6261  2015-03-19 09:15:50            3            1.0   \n",
       "1        1    127600  2017-06-05 12:33:17            1            NaN   \n",
       "2        1    127600  2017-06-05 12:37:09            1            NaN   \n",
       "3        1    127600  2017-06-05 12:32:04            1            NaN   \n",
       "4        1    127600  2017-06-06 09:37:45            1            NaN   \n",
       "\n",
       "  payment_method  total_price  female_age_lower  female_age_upper  \\\n",
       "0            クレカ       4000.0                27              39.0   \n",
       "1            NaN          NaN                24              36.0   \n",
       "2            NaN          NaN                24              36.0   \n",
       "3            NaN          NaN                24              36.0   \n",
       "4            NaN          NaN                24              36.0   \n",
       "\n",
       "   male_age_lower    ...      created_on          event_date event_year  \\\n",
       "0              27    ...      2012-06-26 2015-03-22 14:00:00       2015   \n",
       "1              26    ...      2012-06-26 2017-06-11 10:00:00       2017   \n",
       "2              26    ...      2012-06-26 2017-06-11 10:00:00       2017   \n",
       "3              26    ...      2012-06-26 2017-06-11 10:00:00       2017   \n",
       "4              26    ...      2012-06-26 2017-06-11 10:00:00       2017   \n",
       "\n",
       "  event_month  event_day  event_weekday event_hour  user_date user_year  \\\n",
       "0           3         22              6         14 2012-06-26      2012   \n",
       "1           6         11              6         10 2012-06-26      2012   \n",
       "2           6         11              6         10 2012-06-26      2012   \n",
       "3           6         11              6         10 2012-06-26      2012   \n",
       "4           6         11              6         10 2012-06-26      2012   \n",
       "\n",
       "  user_month  \n",
       "0          6  \n",
       "1          6  \n",
       "2          6  \n",
       "3          6  \n",
       "4          6  \n",
       "\n",
       "[5 rows x 30 columns]"
      ]
     },
     "execution_count": 12,
     "metadata": {},
     "output_type": "execute_result"
    }
   ],
   "source": [
    "merge2.loc[:,\"user_date\"] = pd.to_datetime(merge2[\"created_on\"])\n",
    "merge2.loc[:,\"user_year\"] = merge2.loc[:,\"user_date\"].apply(lambda x:str(x.year))\n",
    "merge2.loc[:,\"user_month\"] = merge2.loc[:,\"user_date\"].apply(lambda x:str(x.month))\n",
    "merge2.head()"
   ]
  },
  {
   "cell_type": "markdown",
   "metadata": {},
   "source": [
    "### 時間を数値化"
   ]
  },
  {
   "cell_type": "code",
   "execution_count": 13,
   "metadata": {
    "collapsed": true
   },
   "outputs": [],
   "source": [
    "merge2[\"time_stamp\"] = pd.to_datetime(merge2[\"time_stamp\"])\n",
    "merge2[\"first_published_at\"] = pd.to_datetime(merge2[\"first_published_at\"])"
   ]
  },
  {
   "cell_type": "code",
   "execution_count": 14,
   "metadata": {
    "collapsed": true
   },
   "outputs": [],
   "source": [
    "features = [\"female_age_lower\",\"female_age_upper\",\"male_age_lower\",\"male_age_upper\",\"event_prefecture\",\"female_price\",\"male_price\",\"age\", \"gender\", \"user_prefecture\",\"event_year\", \"event_month\",\n",
    "           \"event_day\",\"event_weekday\", \"event_hour\", \"user_year\", \"user_month\"]\n",
    "target = [\"action_type\"]\n",
    "\n",
    "categorical = [\"event_prefecture\", \"user_gender\", \"user_prefecture\", 'event_year',\"event_month\",\"event_day\",\"event_weekday\", \"event_hour\", \"user_year\", \"user_month\"]"
   ]
  },
  {
   "cell_type": "code",
   "execution_count": 15,
   "metadata": {},
   "outputs": [
    {
     "name": "stdout",
     "output_type": "stream",
     "text": [
      "(1442610, 18)\n"
     ]
    },
    {
     "data": {
      "text/html": [
       "<div>\n",
       "<style>\n",
       "    .dataframe thead tr:only-child th {\n",
       "        text-align: right;\n",
       "    }\n",
       "\n",
       "    .dataframe thead th {\n",
       "        text-align: left;\n",
       "    }\n",
       "\n",
       "    .dataframe tbody tr th {\n",
       "        vertical-align: top;\n",
       "    }\n",
       "</style>\n",
       "<table border=\"1\" class=\"dataframe\">\n",
       "  <thead>\n",
       "    <tr style=\"text-align: right;\">\n",
       "      <th></th>\n",
       "      <th>female_age_lower</th>\n",
       "      <th>female_age_upper</th>\n",
       "      <th>male_age_lower</th>\n",
       "      <th>male_age_upper</th>\n",
       "      <th>event_prefecture</th>\n",
       "      <th>female_price</th>\n",
       "      <th>male_price</th>\n",
       "      <th>age</th>\n",
       "      <th>gender</th>\n",
       "      <th>user_prefecture</th>\n",
       "      <th>event_year</th>\n",
       "      <th>event_month</th>\n",
       "      <th>event_day</th>\n",
       "      <th>event_weekday</th>\n",
       "      <th>event_hour</th>\n",
       "      <th>user_year</th>\n",
       "      <th>user_month</th>\n",
       "      <th>action_type</th>\n",
       "    </tr>\n",
       "  </thead>\n",
       "  <tbody>\n",
       "    <tr>\n",
       "      <th>0</th>\n",
       "      <td>27</td>\n",
       "      <td>39.0</td>\n",
       "      <td>27</td>\n",
       "      <td>39.0</td>\n",
       "      <td>東京都</td>\n",
       "      <td>4000.0</td>\n",
       "      <td>6500.0</td>\n",
       "      <td>34</td>\n",
       "      <td>女性</td>\n",
       "      <td>静岡県</td>\n",
       "      <td>2015</td>\n",
       "      <td>3</td>\n",
       "      <td>22</td>\n",
       "      <td>6</td>\n",
       "      <td>14</td>\n",
       "      <td>2012</td>\n",
       "      <td>6</td>\n",
       "      <td>3</td>\n",
       "    </tr>\n",
       "    <tr>\n",
       "      <th>1</th>\n",
       "      <td>24</td>\n",
       "      <td>36.0</td>\n",
       "      <td>26</td>\n",
       "      <td>38.0</td>\n",
       "      <td>埼玉県</td>\n",
       "      <td>2000.0</td>\n",
       "      <td>6000.0</td>\n",
       "      <td>34</td>\n",
       "      <td>女性</td>\n",
       "      <td>静岡県</td>\n",
       "      <td>2017</td>\n",
       "      <td>6</td>\n",
       "      <td>11</td>\n",
       "      <td>6</td>\n",
       "      <td>10</td>\n",
       "      <td>2012</td>\n",
       "      <td>6</td>\n",
       "      <td>1</td>\n",
       "    </tr>\n",
       "    <tr>\n",
       "      <th>2</th>\n",
       "      <td>24</td>\n",
       "      <td>36.0</td>\n",
       "      <td>26</td>\n",
       "      <td>38.0</td>\n",
       "      <td>埼玉県</td>\n",
       "      <td>2000.0</td>\n",
       "      <td>6000.0</td>\n",
       "      <td>34</td>\n",
       "      <td>女性</td>\n",
       "      <td>静岡県</td>\n",
       "      <td>2017</td>\n",
       "      <td>6</td>\n",
       "      <td>11</td>\n",
       "      <td>6</td>\n",
       "      <td>10</td>\n",
       "      <td>2012</td>\n",
       "      <td>6</td>\n",
       "      <td>1</td>\n",
       "    </tr>\n",
       "    <tr>\n",
       "      <th>3</th>\n",
       "      <td>24</td>\n",
       "      <td>36.0</td>\n",
       "      <td>26</td>\n",
       "      <td>38.0</td>\n",
       "      <td>埼玉県</td>\n",
       "      <td>2000.0</td>\n",
       "      <td>6000.0</td>\n",
       "      <td>34</td>\n",
       "      <td>女性</td>\n",
       "      <td>静岡県</td>\n",
       "      <td>2017</td>\n",
       "      <td>6</td>\n",
       "      <td>11</td>\n",
       "      <td>6</td>\n",
       "      <td>10</td>\n",
       "      <td>2012</td>\n",
       "      <td>6</td>\n",
       "      <td>1</td>\n",
       "    </tr>\n",
       "    <tr>\n",
       "      <th>4</th>\n",
       "      <td>24</td>\n",
       "      <td>36.0</td>\n",
       "      <td>26</td>\n",
       "      <td>38.0</td>\n",
       "      <td>埼玉県</td>\n",
       "      <td>2000.0</td>\n",
       "      <td>6000.0</td>\n",
       "      <td>34</td>\n",
       "      <td>女性</td>\n",
       "      <td>静岡県</td>\n",
       "      <td>2017</td>\n",
       "      <td>6</td>\n",
       "      <td>11</td>\n",
       "      <td>6</td>\n",
       "      <td>10</td>\n",
       "      <td>2012</td>\n",
       "      <td>6</td>\n",
       "      <td>1</td>\n",
       "    </tr>\n",
       "  </tbody>\n",
       "</table>\n",
       "</div>"
      ],
      "text/plain": [
       "   female_age_lower  female_age_upper  male_age_lower  male_age_upper  \\\n",
       "0                27              39.0              27            39.0   \n",
       "1                24              36.0              26            38.0   \n",
       "2                24              36.0              26            38.0   \n",
       "3                24              36.0              26            38.0   \n",
       "4                24              36.0              26            38.0   \n",
       "\n",
       "  event_prefecture  female_price  male_price  age gender user_prefecture  \\\n",
       "0              東京都        4000.0      6500.0   34     女性             静岡県   \n",
       "1              埼玉県        2000.0      6000.0   34     女性             静岡県   \n",
       "2              埼玉県        2000.0      6000.0   34     女性             静岡県   \n",
       "3              埼玉県        2000.0      6000.0   34     女性             静岡県   \n",
       "4              埼玉県        2000.0      6000.0   34     女性             静岡県   \n",
       "\n",
       "  event_year event_month event_day event_weekday event_hour user_year  \\\n",
       "0       2015           3        22             6         14      2012   \n",
       "1       2017           6        11             6         10      2012   \n",
       "2       2017           6        11             6         10      2012   \n",
       "3       2017           6        11             6         10      2012   \n",
       "4       2017           6        11             6         10      2012   \n",
       "\n",
       "  user_month  action_type  \n",
       "0          6            3  \n",
       "1          6            1  \n",
       "2          6            1  \n",
       "3          6            1  \n",
       "4          6            1  "
      ]
     },
     "execution_count": 15,
     "metadata": {},
     "output_type": "execute_result"
    }
   ],
   "source": [
    "data =merge2[features + target]\n",
    "#naの行消す\n",
    "data = data.dropna()\n",
    "data = data.reset_index(drop=True)\n",
    "print(data.shape)\n",
    "data.head()"
   ]
  },
  {
   "cell_type": "code",
   "execution_count": 16,
   "metadata": {},
   "outputs": [
    {
     "name": "stdout",
     "output_type": "stream",
     "text": [
      "(1442610, 1)\n"
     ]
    },
    {
     "data": {
      "text/html": [
       "<div>\n",
       "<style>\n",
       "    .dataframe thead tr:only-child th {\n",
       "        text-align: right;\n",
       "    }\n",
       "\n",
       "    .dataframe thead th {\n",
       "        text-align: left;\n",
       "    }\n",
       "\n",
       "    .dataframe tbody tr th {\n",
       "        vertical-align: top;\n",
       "    }\n",
       "</style>\n",
       "<table border=\"1\" class=\"dataframe\">\n",
       "  <thead>\n",
       "    <tr style=\"text-align: right;\">\n",
       "      <th></th>\n",
       "      <th>event_prefecture</th>\n",
       "    </tr>\n",
       "  </thead>\n",
       "  <tbody>\n",
       "    <tr>\n",
       "      <th>0</th>\n",
       "      <td>27</td>\n",
       "    </tr>\n",
       "    <tr>\n",
       "      <th>1</th>\n",
       "      <td>8</td>\n",
       "    </tr>\n",
       "    <tr>\n",
       "      <th>2</th>\n",
       "      <td>8</td>\n",
       "    </tr>\n",
       "    <tr>\n",
       "      <th>3</th>\n",
       "      <td>8</td>\n",
       "    </tr>\n",
       "    <tr>\n",
       "      <th>4</th>\n",
       "      <td>8</td>\n",
       "    </tr>\n",
       "  </tbody>\n",
       "</table>\n",
       "</div>"
      ],
      "text/plain": [
       "   event_prefecture\n",
       "0                27\n",
       "1                 8\n",
       "2                 8\n",
       "3                 8\n",
       "4                 8"
      ]
     },
     "execution_count": 16,
     "metadata": {},
     "output_type": "execute_result"
    }
   ],
   "source": [
    "e_pre = prefecture_labeling(data[\"event_prefecture\"])\n",
    "e_pre.columns = \"event_\" + e_pre.columns.values\n",
    "print(e_pre.shape)\n",
    "e_pre.head()"
   ]
  },
  {
   "cell_type": "code",
   "execution_count": 17,
   "metadata": {},
   "outputs": [
    {
     "name": "stdout",
     "output_type": "stream",
     "text": [
      "(1442610, 1)\n"
     ]
    },
    {
     "data": {
      "text/html": [
       "<div>\n",
       "<style>\n",
       "    .dataframe thead tr:only-child th {\n",
       "        text-align: right;\n",
       "    }\n",
       "\n",
       "    .dataframe thead th {\n",
       "        text-align: left;\n",
       "    }\n",
       "\n",
       "    .dataframe tbody tr th {\n",
       "        vertical-align: top;\n",
       "    }\n",
       "</style>\n",
       "<table border=\"1\" class=\"dataframe\">\n",
       "  <thead>\n",
       "    <tr style=\"text-align: right;\">\n",
       "      <th></th>\n",
       "      <th>user_prefecture</th>\n",
       "    </tr>\n",
       "  </thead>\n",
       "  <tbody>\n",
       "    <tr>\n",
       "      <th>0</th>\n",
       "      <td>43</td>\n",
       "    </tr>\n",
       "    <tr>\n",
       "      <th>1</th>\n",
       "      <td>43</td>\n",
       "    </tr>\n",
       "    <tr>\n",
       "      <th>2</th>\n",
       "      <td>43</td>\n",
       "    </tr>\n",
       "    <tr>\n",
       "      <th>3</th>\n",
       "      <td>43</td>\n",
       "    </tr>\n",
       "    <tr>\n",
       "      <th>4</th>\n",
       "      <td>43</td>\n",
       "    </tr>\n",
       "  </tbody>\n",
       "</table>\n",
       "</div>"
      ],
      "text/plain": [
       "   user_prefecture\n",
       "0               43\n",
       "1               43\n",
       "2               43\n",
       "3               43\n",
       "4               43"
      ]
     },
     "execution_count": 17,
     "metadata": {},
     "output_type": "execute_result"
    }
   ],
   "source": [
    "u_pre = prefecture_labeling(data[\"user_prefecture\"])\n",
    "u_pre.columns = \"user_\" + u_pre.columns.values\n",
    "print(u_pre.shape)\n",
    "u_pre.head()"
   ]
  },
  {
   "cell_type": "code",
   "execution_count": 18,
   "metadata": {},
   "outputs": [
    {
     "name": "stdout",
     "output_type": "stream",
     "text": [
      "(1442610, 1)\n"
     ]
    },
    {
     "data": {
      "text/html": [
       "<div>\n",
       "<style>\n",
       "    .dataframe thead tr:only-child th {\n",
       "        text-align: right;\n",
       "    }\n",
       "\n",
       "    .dataframe thead th {\n",
       "        text-align: left;\n",
       "    }\n",
       "\n",
       "    .dataframe tbody tr th {\n",
       "        vertical-align: top;\n",
       "    }\n",
       "</style>\n",
       "<table border=\"1\" class=\"dataframe\">\n",
       "  <thead>\n",
       "    <tr style=\"text-align: right;\">\n",
       "      <th></th>\n",
       "      <th>gender</th>\n",
       "    </tr>\n",
       "  </thead>\n",
       "  <tbody>\n",
       "    <tr>\n",
       "      <th>0</th>\n",
       "      <td>0</td>\n",
       "    </tr>\n",
       "    <tr>\n",
       "      <th>1</th>\n",
       "      <td>0</td>\n",
       "    </tr>\n",
       "    <tr>\n",
       "      <th>2</th>\n",
       "      <td>0</td>\n",
       "    </tr>\n",
       "    <tr>\n",
       "      <th>3</th>\n",
       "      <td>0</td>\n",
       "    </tr>\n",
       "    <tr>\n",
       "      <th>4</th>\n",
       "      <td>0</td>\n",
       "    </tr>\n",
       "  </tbody>\n",
       "</table>\n",
       "</div>"
      ],
      "text/plain": [
       "   gender\n",
       "0       0\n",
       "1       0\n",
       "2       0\n",
       "3       0\n",
       "4       0"
      ]
     },
     "execution_count": 18,
     "metadata": {},
     "output_type": "execute_result"
    }
   ],
   "source": [
    "gen = gender_labeling(data[\"gender\"])\n",
    "print(gen.shape)\n",
    "gen.head()"
   ]
  },
  {
   "cell_type": "code",
   "execution_count": 19,
   "metadata": {},
   "outputs": [
    {
     "name": "stdout",
     "output_type": "stream",
     "text": [
      "(1442610, 15)\n",
      "(1442610, 18)\n"
     ]
    },
    {
     "data": {
      "text/html": [
       "<div>\n",
       "<style>\n",
       "    .dataframe thead tr:only-child th {\n",
       "        text-align: right;\n",
       "    }\n",
       "\n",
       "    .dataframe thead th {\n",
       "        text-align: left;\n",
       "    }\n",
       "\n",
       "    .dataframe tbody tr th {\n",
       "        vertical-align: top;\n",
       "    }\n",
       "</style>\n",
       "<table border=\"1\" class=\"dataframe\">\n",
       "  <thead>\n",
       "    <tr style=\"text-align: right;\">\n",
       "      <th></th>\n",
       "      <th>male_age_lower</th>\n",
       "      <th>age</th>\n",
       "      <th>event_weekday</th>\n",
       "      <th>male_price</th>\n",
       "      <th>female_age_upper</th>\n",
       "      <th>female_price</th>\n",
       "      <th>event_day</th>\n",
       "      <th>user_year</th>\n",
       "      <th>female_age_lower</th>\n",
       "      <th>user_month</th>\n",
       "      <th>event_month</th>\n",
       "      <th>event_hour</th>\n",
       "      <th>action_type</th>\n",
       "      <th>male_age_upper</th>\n",
       "      <th>event_year</th>\n",
       "      <th>gender</th>\n",
       "      <th>event_prefecture</th>\n",
       "      <th>user_prefecture</th>\n",
       "    </tr>\n",
       "  </thead>\n",
       "  <tbody>\n",
       "    <tr>\n",
       "      <th>0</th>\n",
       "      <td>27</td>\n",
       "      <td>34</td>\n",
       "      <td>6</td>\n",
       "      <td>6500.0</td>\n",
       "      <td>39.0</td>\n",
       "      <td>4000.0</td>\n",
       "      <td>22</td>\n",
       "      <td>2012</td>\n",
       "      <td>27</td>\n",
       "      <td>6</td>\n",
       "      <td>3</td>\n",
       "      <td>14</td>\n",
       "      <td>3</td>\n",
       "      <td>39.0</td>\n",
       "      <td>2015</td>\n",
       "      <td>0</td>\n",
       "      <td>27</td>\n",
       "      <td>43</td>\n",
       "    </tr>\n",
       "    <tr>\n",
       "      <th>1</th>\n",
       "      <td>26</td>\n",
       "      <td>34</td>\n",
       "      <td>6</td>\n",
       "      <td>6000.0</td>\n",
       "      <td>36.0</td>\n",
       "      <td>2000.0</td>\n",
       "      <td>11</td>\n",
       "      <td>2012</td>\n",
       "      <td>24</td>\n",
       "      <td>6</td>\n",
       "      <td>6</td>\n",
       "      <td>10</td>\n",
       "      <td>1</td>\n",
       "      <td>38.0</td>\n",
       "      <td>2017</td>\n",
       "      <td>0</td>\n",
       "      <td>8</td>\n",
       "      <td>43</td>\n",
       "    </tr>\n",
       "    <tr>\n",
       "      <th>2</th>\n",
       "      <td>26</td>\n",
       "      <td>34</td>\n",
       "      <td>6</td>\n",
       "      <td>6000.0</td>\n",
       "      <td>36.0</td>\n",
       "      <td>2000.0</td>\n",
       "      <td>11</td>\n",
       "      <td>2012</td>\n",
       "      <td>24</td>\n",
       "      <td>6</td>\n",
       "      <td>6</td>\n",
       "      <td>10</td>\n",
       "      <td>1</td>\n",
       "      <td>38.0</td>\n",
       "      <td>2017</td>\n",
       "      <td>0</td>\n",
       "      <td>8</td>\n",
       "      <td>43</td>\n",
       "    </tr>\n",
       "    <tr>\n",
       "      <th>3</th>\n",
       "      <td>26</td>\n",
       "      <td>34</td>\n",
       "      <td>6</td>\n",
       "      <td>6000.0</td>\n",
       "      <td>36.0</td>\n",
       "      <td>2000.0</td>\n",
       "      <td>11</td>\n",
       "      <td>2012</td>\n",
       "      <td>24</td>\n",
       "      <td>6</td>\n",
       "      <td>6</td>\n",
       "      <td>10</td>\n",
       "      <td>1</td>\n",
       "      <td>38.0</td>\n",
       "      <td>2017</td>\n",
       "      <td>0</td>\n",
       "      <td>8</td>\n",
       "      <td>43</td>\n",
       "    </tr>\n",
       "    <tr>\n",
       "      <th>4</th>\n",
       "      <td>26</td>\n",
       "      <td>34</td>\n",
       "      <td>6</td>\n",
       "      <td>6000.0</td>\n",
       "      <td>36.0</td>\n",
       "      <td>2000.0</td>\n",
       "      <td>11</td>\n",
       "      <td>2012</td>\n",
       "      <td>24</td>\n",
       "      <td>6</td>\n",
       "      <td>6</td>\n",
       "      <td>10</td>\n",
       "      <td>1</td>\n",
       "      <td>38.0</td>\n",
       "      <td>2017</td>\n",
       "      <td>0</td>\n",
       "      <td>8</td>\n",
       "      <td>43</td>\n",
       "    </tr>\n",
       "  </tbody>\n",
       "</table>\n",
       "</div>"
      ],
      "text/plain": [
       "   male_age_lower  age event_weekday  male_price  female_age_upper  \\\n",
       "0              27   34             6      6500.0              39.0   \n",
       "1              26   34             6      6000.0              36.0   \n",
       "2              26   34             6      6000.0              36.0   \n",
       "3              26   34             6      6000.0              36.0   \n",
       "4              26   34             6      6000.0              36.0   \n",
       "\n",
       "   female_price event_day user_year  female_age_lower user_month event_month  \\\n",
       "0        4000.0        22      2012                27          6           3   \n",
       "1        2000.0        11      2012                24          6           6   \n",
       "2        2000.0        11      2012                24          6           6   \n",
       "3        2000.0        11      2012                24          6           6   \n",
       "4        2000.0        11      2012                24          6           6   \n",
       "\n",
       "  event_hour  action_type  male_age_upper event_year  gender  \\\n",
       "0         14            3            39.0       2015       0   \n",
       "1         10            1            38.0       2017       0   \n",
       "2         10            1            38.0       2017       0   \n",
       "3         10            1            38.0       2017       0   \n",
       "4         10            1            38.0       2017       0   \n",
       "\n",
       "   event_prefecture  user_prefecture  \n",
       "0                27               43  \n",
       "1                 8               43  \n",
       "2                 8               43  \n",
       "3                 8               43  \n",
       "4                 8               43  "
      ]
     },
     "execution_count": 19,
     "metadata": {},
     "output_type": "execute_result"
    }
   ],
   "source": [
    "temp = data[list(set(features+target) - set([\"user_prefecture\", \"event_prefecture\", \"gender\"]))]\n",
    "print(temp.shape)\n",
    "temp = pd.concat((temp,gen), axis = 1)\n",
    "temp = pd.concat((temp,e_pre), axis = 1)\n",
    "temp = pd.concat((temp,u_pre), axis = 1)\n",
    "\n",
    "data = temp\n",
    "print(data.shape)\n",
    "data.head()"
   ]
  },
  {
   "cell_type": "code",
   "execution_count": 20,
   "metadata": {
    "collapsed": true
   },
   "outputs": [],
   "source": [
    "data = data.astype(np.int64)"
   ]
  },
  {
   "cell_type": "code",
   "execution_count": 21,
   "metadata": {
    "scrolled": true
   },
   "outputs": [
    {
     "data": {
      "text/plain": [
       "1       1447\n",
       "2      37476\n",
       "3       2578\n",
       "4      41341\n",
       "5      34501\n",
       "6      29237\n",
       "7       2274\n",
       "8      38681\n",
       "9       6967\n",
       "10    188971\n",
       "11      4061\n",
       "12     12830\n",
       "13      1635\n",
       "14      1977\n",
       "15      7014\n",
       "16       657\n",
       "17       667\n",
       "18      2028\n",
       "19     17140\n",
       "20       161\n",
       "21       725\n",
       "22     25894\n",
       "23        71\n",
       "24        79\n",
       "25     91966\n",
       "26      9713\n",
       "27    652045\n",
       "28      2761\n",
       "29       300\n",
       "30      4536\n",
       "31      6036\n",
       "32      1320\n",
       "33     82921\n",
       "34       460\n",
       "35     61001\n",
       "36      1295\n",
       "37       126\n",
       "38     10494\n",
       "39     10923\n",
       "40      7171\n",
       "41     15330\n",
       "42       524\n",
       "43     14134\n",
       "44      5827\n",
       "45        66\n",
       "46       219\n",
       "47      5030\n",
       "Name: event_prefecture, dtype: int64"
      ]
     },
     "execution_count": 21,
     "metadata": {},
     "output_type": "execute_result"
    }
   ],
   "source": [
    "data[\"event_prefecture\"].value_counts().sort_index()"
   ]
  },
  {
   "cell_type": "markdown",
   "metadata": {},
   "source": [
    "# 特徴量エンジニアリング"
   ]
  },
  {
   "cell_type": "markdown",
   "metadata": {},
   "source": [
    "## action_tpe=3にgender,ageはどう影響するのか。"
   ]
  },
  {
   "cell_type": "markdown",
   "metadata": {},
   "source": [
    "#### 性別ごとにdata分割"
   ]
  },
  {
   "cell_type": "code",
   "execution_count": 22,
   "metadata": {
    "collapsed": true
   },
   "outputs": [],
   "source": [
    "data_M = data[data[\"gender\"]==0]\n",
    "data_F = data[data[\"gender\"]==1]"
   ]
  },
  {
   "cell_type": "code",
   "execution_count": 23,
   "metadata": {},
   "outputs": [
    {
     "name": "stdout",
     "output_type": "stream",
     "text": [
      "(702362, 18)\n",
      "(740248, 18)\n"
     ]
    }
   ],
   "source": [
    "print(data_M.shape)\n",
    "print(data_F.shape)"
   ]
  },
  {
   "cell_type": "markdown",
   "metadata": {},
   "source": [
    "男性の年齢の内訳"
   ]
  },
  {
   "cell_type": "code",
   "execution_count": 24,
   "metadata": {
    "scrolled": true
   },
   "outputs": [
    {
     "name": "stdout",
     "output_type": "stream",
     "text": [
      "20     2399\n",
      "21    15731\n",
      "22    26714\n",
      "23    50892\n",
      "24    62952\n",
      "25    71602\n",
      "26    70087\n",
      "27    58566\n",
      "28    55080\n",
      "29    47951\n",
      "30    46361\n",
      "31    35368\n",
      "32    28981\n",
      "33    26812\n",
      "34    23839\n",
      "35    15700\n",
      "36    15704\n",
      "37    11493\n",
      "38    12747\n",
      "39     7564\n",
      "40     3709\n",
      "41     3109\n",
      "42     2860\n",
      "43     1799\n",
      "44     1341\n",
      "45     1284\n",
      "46     1001\n",
      "47      110\n",
      "48      287\n",
      "49      105\n",
      "50      177\n",
      "51       25\n",
      "52        3\n",
      "54        8\n",
      "55        1\n",
      "Name: age, dtype: int64\n"
     ]
    }
   ],
   "source": [
    "print(data_M[\"age\"].value_counts(dropna=False, normalize=False).sort_index())  #20~55最の36通りデータ分割"
   ]
  },
  {
   "cell_type": "code",
   "execution_count": 25,
   "metadata": {
    "collapsed": true
   },
   "outputs": [],
   "source": [
    "data_M = data[data[\"gender\"]==0]\n",
    "data_F = data[data[\"gender\"]==1]"
   ]
  },
  {
   "cell_type": "markdown",
   "metadata": {},
   "source": [
    "男性を年齢で分割"
   ]
  },
  {
   "cell_type": "code",
   "execution_count": 27,
   "metadata": {
    "scrolled": true
   },
   "outputs": [
    {
     "name": "stdout",
     "output_type": "stream",
     "text": [
      "data_M20= data_M[data_M['age'] == 20]\n",
      "data_M21= data_M[data_M['age'] == 21]\n",
      "data_M22= data_M[data_M['age'] == 22]\n",
      "data_M23= data_M[data_M['age'] == 23]\n",
      "data_M24= data_M[data_M['age'] == 24]\n",
      "data_M25= data_M[data_M['age'] == 25]\n",
      "data_M26= data_M[data_M['age'] == 26]\n",
      "data_M27= data_M[data_M['age'] == 27]\n",
      "data_M28= data_M[data_M['age'] == 28]\n",
      "data_M29= data_M[data_M['age'] == 29]\n",
      "data_M30= data_M[data_M['age'] == 30]\n",
      "data_M31= data_M[data_M['age'] == 31]\n",
      "data_M32= data_M[data_M['age'] == 32]\n",
      "data_M33= data_M[data_M['age'] == 33]\n",
      "data_M34= data_M[data_M['age'] == 34]\n",
      "data_M35= data_M[data_M['age'] == 35]\n",
      "data_M36= data_M[data_M['age'] == 36]\n",
      "data_M37= data_M[data_M['age'] == 37]\n",
      "data_M38= data_M[data_M['age'] == 38]\n",
      "data_M39= data_M[data_M['age'] == 39]\n",
      "data_M40= data_M[data_M['age'] == 40]\n",
      "data_M41= data_M[data_M['age'] == 41]\n",
      "data_M42= data_M[data_M['age'] == 42]\n",
      "data_M43= data_M[data_M['age'] == 43]\n",
      "data_M44= data_M[data_M['age'] == 44]\n",
      "data_M45= data_M[data_M['age'] == 45]\n",
      "data_M46= data_M[data_M['age'] == 46]\n",
      "data_M47= data_M[data_M['age'] == 47]\n",
      "data_M48= data_M[data_M['age'] == 48]\n",
      "data_M49= data_M[data_M['age'] == 49]\n",
      "data_M50= data_M[data_M['age'] == 50]\n",
      "data_M51= data_M[data_M['age'] == 51]\n",
      "data_M52= data_M[data_M['age'] == 52]\n",
      "data_M53= data_M[data_M['age'] == 53]\n",
      "data_M54= data_M[data_M['age'] == 54]\n",
      "data_M55= data_M[data_M['age'] == 55]\n"
     ]
    }
   ],
   "source": [
    "moji_1 = \"data_M\"\n",
    "moji_2 =\"= data_M[data_M['age'] == \"\n",
    "moji_3= \"]\"\n",
    "for i in range(20,56):\n",
    "    print (moji_1 + '%d'%i + moji_2 + '%d'%i + moji_3 ) "
   ]
  },
  {
   "cell_type": "code",
   "execution_count": 28,
   "metadata": {
    "scrolled": true
   },
   "outputs": [],
   "source": [
    "data_M20= data_M[data_M['age'] == 20]\n",
    "data_M21= data_M[data_M['age'] == 21]\n",
    "data_M22= data_M[data_M['age'] == 22]\n",
    "data_M23= data_M[data_M['age'] == 23]\n",
    "data_M24= data_M[data_M['age'] == 24]\n",
    "data_M25= data_M[data_M['age'] == 25]\n",
    "data_M26= data_M[data_M['age'] == 26]\n",
    "data_M27= data_M[data_M['age'] == 27]\n",
    "data_M28= data_M[data_M['age'] == 28]\n",
    "data_M29= data_M[data_M['age'] == 29]\n",
    "data_M30= data_M[data_M['age'] == 30]\n",
    "data_M31= data_M[data_M['age'] == 31]\n",
    "data_M32= data_M[data_M['age'] == 32]\n",
    "data_M33= data_M[data_M['age'] == 33]\n",
    "data_M34= data_M[data_M['age'] == 34]\n",
    "data_M35= data_M[data_M['age'] == 35]\n",
    "data_M36= data_M[data_M['age'] == 36]\n",
    "data_M37= data_M[data_M['age'] == 37]\n",
    "data_M38= data_M[data_M['age'] == 38]\n",
    "data_M39= data_M[data_M['age'] == 39]\n",
    "data_M40= data_M[data_M['age'] == 40]\n",
    "data_M41= data_M[data_M['age'] == 41]\n",
    "data_M42= data_M[data_M['age'] == 42]\n",
    "data_M43= data_M[data_M['age'] == 43]\n",
    "data_M44= data_M[data_M['age'] == 44]\n",
    "data_M45= data_M[data_M['age'] == 45]\n",
    "data_M46= data_M[data_M['age'] == 46]\n",
    "data_M47= data_M[data_M['age'] == 47]\n",
    "data_M48= data_M[data_M['age'] == 48]\n",
    "data_M49= data_M[data_M['age'] == 49]\n",
    "data_M50= data_M[data_M['age'] == 50]\n",
    "data_M51= data_M[data_M['age'] == 51]\n",
    "data_M52= data_M[data_M['age'] == 52]\n",
    "data_M53= data_M[data_M['age'] == 53]\n",
    "data_M54= data_M[data_M['age'] == 54]\n",
    "data_M55= data_M[data_M['age'] == 55]"
   ]
  },
  {
   "cell_type": "markdown",
   "metadata": {},
   "source": [
    "女性の年齢の内訳"
   ]
  },
  {
   "cell_type": "code",
   "execution_count": 29,
   "metadata": {
    "scrolled": true
   },
   "outputs": [
    {
     "name": "stdout",
     "output_type": "stream",
     "text": [
      "20     1001\n",
      "21     4447\n",
      "22     9894\n",
      "23    24565\n",
      "24    45273\n",
      "25    62674\n",
      "26    68006\n",
      "27    66978\n",
      "28    60122\n",
      "29    65091\n",
      "30    56699\n",
      "31    46508\n",
      "32    39453\n",
      "33    37328\n",
      "34    26563\n",
      "35    28874\n",
      "36    19322\n",
      "37    19526\n",
      "38    11481\n",
      "39    11389\n",
      "40     9719\n",
      "41     4940\n",
      "42     7010\n",
      "43     3977\n",
      "44     2843\n",
      "45     3009\n",
      "46     1962\n",
      "47      725\n",
      "48      276\n",
      "49      246\n",
      "50      133\n",
      "51       70\n",
      "52        8\n",
      "53      120\n",
      "54       13\n",
      "56        2\n",
      "58        1\n",
      "Name: age, dtype: int64\n"
     ]
    }
   ],
   "source": [
    "print(data_F[\"age\"].value_counts(dropna=False, normalize=False).sort_index())  #20~54,56,58の37通りデータ分割"
   ]
  },
  {
   "cell_type": "markdown",
   "metadata": {},
   "source": [
    "女性を年齢で分割"
   ]
  },
  {
   "cell_type": "code",
   "execution_count": 30,
   "metadata": {
    "scrolled": true
   },
   "outputs": [
    {
     "name": "stdout",
     "output_type": "stream",
     "text": [
      "data_F20= data_F[data_F['age'] == 20]\n",
      "data_F21= data_F[data_F['age'] == 21]\n",
      "data_F22= data_F[data_F['age'] == 22]\n",
      "data_F23= data_F[data_F['age'] == 23]\n",
      "data_F24= data_F[data_F['age'] == 24]\n",
      "data_F25= data_F[data_F['age'] == 25]\n",
      "data_F26= data_F[data_F['age'] == 26]\n",
      "data_F27= data_F[data_F['age'] == 27]\n",
      "data_F28= data_F[data_F['age'] == 28]\n",
      "data_F29= data_F[data_F['age'] == 29]\n",
      "data_F30= data_F[data_F['age'] == 30]\n",
      "data_F31= data_F[data_F['age'] == 31]\n",
      "data_F32= data_F[data_F['age'] == 32]\n",
      "data_F33= data_F[data_F['age'] == 33]\n",
      "data_F34= data_F[data_F['age'] == 34]\n",
      "data_F35= data_F[data_F['age'] == 35]\n",
      "data_F36= data_F[data_F['age'] == 36]\n",
      "data_F37= data_F[data_F['age'] == 37]\n",
      "data_F38= data_F[data_F['age'] == 38]\n",
      "data_F39= data_F[data_F['age'] == 39]\n",
      "data_F40= data_F[data_F['age'] == 40]\n",
      "data_F41= data_F[data_F['age'] == 41]\n",
      "data_F42= data_F[data_F['age'] == 42]\n",
      "data_F43= data_F[data_F['age'] == 43]\n",
      "data_F44= data_F[data_F['age'] == 44]\n",
      "data_F45= data_F[data_F['age'] == 45]\n",
      "data_F46= data_F[data_F['age'] == 46]\n",
      "data_F47= data_F[data_F['age'] == 47]\n",
      "data_F48= data_F[data_F['age'] == 48]\n",
      "data_F49= data_F[data_F['age'] == 49]\n",
      "data_F50= data_F[data_F['age'] == 50]\n",
      "data_F51= data_F[data_F['age'] == 51]\n",
      "data_F52= data_F[data_F['age'] == 52]\n",
      "data_F53= data_F[data_F['age'] == 53]\n",
      "data_F54= data_F[data_F['age'] == 54]\n",
      "data_F55= data_F[data_F['age'] == 55]\n",
      "data_F56= data_F[data_F['age'] == 56]\n",
      "data_F57= data_F[data_F['age'] == 57]\n",
      "data_F58= data_F[data_F['age'] == 58]\n",
      "data_F59= data_F[data_F['age'] == 59]\n"
     ]
    }
   ],
   "source": [
    "moji_1 = \"data_F\"\n",
    "moji_2 =\"= data_F[data_F['age'] == \"\n",
    "moji_3= \"]\"\n",
    "for i in range(20,60):\n",
    "    print (moji_1 + '%d'%i + moji_2 + '%d'%i + moji_3 ) "
   ]
  },
  {
   "cell_type": "code",
   "execution_count": 31,
   "metadata": {},
   "outputs": [],
   "source": [
    "data_F20= data_F[data_F['age'] == 20]\n",
    "data_F21= data_F[data_F['age'] == 21]\n",
    "data_F22= data_F[data_F['age'] == 22]\n",
    "data_F23= data_F[data_F['age'] == 23]\n",
    "data_F24= data_F[data_F['age'] == 24]\n",
    "data_F25= data_F[data_F['age'] == 25]\n",
    "data_F26= data_F[data_F['age'] == 26]\n",
    "data_F27= data_F[data_F['age'] == 27]\n",
    "data_F28= data_F[data_F['age'] == 28]\n",
    "data_F29= data_F[data_F['age'] == 29]\n",
    "data_F30= data_F[data_F['age'] == 30]\n",
    "data_F31= data_F[data_F['age'] == 31]\n",
    "data_F32= data_F[data_F['age'] == 32]\n",
    "data_F33= data_F[data_F['age'] == 33]\n",
    "data_F34= data_F[data_F['age'] == 34]\n",
    "data_F35= data_F[data_F['age'] == 35]\n",
    "data_F36= data_F[data_F['age'] == 36]\n",
    "data_F37= data_F[data_F['age'] == 37]\n",
    "data_F38= data_F[data_F['age'] == 38]\n",
    "data_F39= data_F[data_F['age'] == 39]\n",
    "data_F40= data_F[data_F['age'] == 40]\n",
    "data_F41= data_F[data_F['age'] == 41]\n",
    "data_F42= data_F[data_F['age'] == 42]\n",
    "data_F43= data_F[data_F['age'] == 43]\n",
    "data_F44= data_F[data_F['age'] == 44]\n",
    "data_F45= data_F[data_F['age'] == 45]\n",
    "data_F46= data_F[data_F['age'] == 46]\n",
    "data_F47= data_F[data_F['age'] == 47]\n",
    "data_F48= data_F[data_F['age'] == 48]\n",
    "data_F49= data_F[data_F['age'] == 49]\n",
    "data_F50= data_F[data_F['age'] == 50]\n",
    "data_F51= data_F[data_F['age'] == 51]\n",
    "data_F52= data_F[data_F['age'] == 52]\n",
    "data_F53= data_F[data_F['age'] == 53]\n",
    "data_F54= data_F[data_F['age'] == 54]\n",
    "data_F55= data_F[data_F['age'] == 55]\n",
    "data_F56= data_F[data_F['age'] == 56]\n",
    "data_F57= data_F[data_F['age'] == 57]\n",
    "data_F58= data_F[data_F['age'] == 58]\n",
    "data_F59= data_F[data_F['age'] == 59]"
   ]
  },
  {
   "cell_type": "markdown",
   "metadata": {},
   "source": [
    "### 男性20代のaction_typeごとの割合"
   ]
  },
  {
   "cell_type": "code",
   "execution_count": 51,
   "metadata": {
    "scrolled": true
   },
   "outputs": [
    {
     "data": {
      "text/plain": [
       "<matplotlib.axes._subplots.AxesSubplot at 0x1ce85a31cf8>"
      ]
     },
     "execution_count": 51,
     "metadata": {},
     "output_type": "execute_result"
    },
    {
     "data": {
      "image/png": "[encoded data removed]",
      "text/plain": [
       "<matplotlib.figure.Figure at 0x1cf57cb4e10>"
      ]
     },
     "metadata": {},
     "output_type": "display_data"
    }
   ],
   "source": [
    "fig = plt.figure(figsize=(9,9)) # figureオブジェクト作成\n",
    "plt.subplot(4,3,1)\n",
    "count_age20 = data_M20[\"action_type\"].value_counts(dropna=False, normalize=True).sort_index()\n",
    "count_age20.plot(kind = \"bar\",color=\"c\", alpha=.4)\n",
    "\n",
    "plt.subplot(4,3,2)\n",
    "count_age21 = data_M21[\"action_type\"].value_counts(dropna=False, normalize=True).sort_index()\n",
    "count_age21.plot(kind = \"bar\",color=\"c\", alpha=.4)\n",
    "\n",
    "plt.subplot(4,3,3)\n",
    "count_age22 = data_M22[\"action_type\"].value_counts(dropna=False, normalize=True).sort_index()\n",
    "count_age22.plot(kind = \"bar\",color=\"c\", alpha=.4)\n",
    "\n",
    "plt.subplot(4,3,4)\n",
    "count_age23 = data_M23[\"action_type\"].value_counts(dropna=False, normalize=True).sort_index()\n",
    "count_age23.plot(kind = \"bar\",color=\"c\", alpha=.4)\n",
    "\n",
    "plt.subplot(4,3,5)\n",
    "count_age24 = data_M24[\"action_type\"].value_counts(dropna=False, normalize=True).sort_index()\n",
    "count_age24.plot(kind = \"bar\",color=\"c\", alpha=.4)\n",
    "\n",
    "plt.subplot(4,3,6)\n",
    "count_age25 = data_M25[\"action_type\"].value_counts(dropna=False, normalize=True).sort_index()\n",
    "count_age25.plot(kind = \"bar\",color=\"c\", alpha=.4)\n",
    "\n",
    "plt.subplot(4,3,7)\n",
    "count_age26 = data_M26[\"action_type\"].value_counts(dropna=False, normalize=True).sort_index()\n",
    "count_age26.plot(kind = \"bar\",color=\"c\", alpha=.4)\n",
    "\n",
    "plt.subplot(4,3,8)\n",
    "count_age27 = data_M27[\"action_type\"].value_counts(dropna=False, normalize=True).sort_index()\n",
    "count_age27.plot(kind = \"bar\",color=\"c\", alpha=.4)\n",
    "\n",
    "plt.subplot(4,3,9)\n",
    "count_age28 = data_M28[\"action_type\"].value_counts(dropna=False, normalize=True).sort_index()\n",
    "count_age28.plot(kind = \"bar\",color=\"c\", alpha=.4)\n",
    "\n",
    "plt.subplot(4,3,10)\n",
    "count_age29 = data_M29[\"action_type\"].value_counts(dropna=False, normalize=True).sort_index()\n",
    "count_age29.plot(kind = \"bar\",color=\"c\", alpha=.4)"
   ]
  },
  {
   "cell_type": "markdown",
   "metadata": {},
   "source": [
    "### 男性30代のaction_typeごとの割合"
   ]
  },
  {
   "cell_type": "code",
   "execution_count": 52,
   "metadata": {},
   "outputs": [
    {
     "data": {
      "text/plain": [
       "<matplotlib.axes._subplots.AxesSubplot at 0x1cea17df3c8>"
      ]
     },
     "execution_count": 52,
     "metadata": {},
     "output_type": "execute_result"
    },
    {
     "data": {
      "image/png": "[encoded data removed]",
      "text/plain": [
       "<matplotlib.figure.Figure at 0x1cf585fba20>"
      ]
     },
     "metadata": {},
     "output_type": "display_data"
    }
   ],
   "source": [
    "fig = plt.figure(figsize=(9,9)) # figureオブジェクト作成\n",
    "plt.subplot(4,3,1)\n",
    "count_age30 = data_M30[\"action_type\"].value_counts(dropna=False, normalize=True).sort_index()\n",
    "count_age30.plot(kind = \"bar\",color=\"c\", alpha=.4)\n",
    "\n",
    "plt.subplot(4,3,2)\n",
    "count_age31 = data_M31[\"action_type\"].value_counts(dropna=False, normalize=True).sort_index()\n",
    "count_age31.plot(kind = \"bar\",color=\"c\", alpha=.4)\n",
    "\n",
    "plt.subplot(4,3,3)\n",
    "count_age32 = data_M32[\"action_type\"].value_counts(dropna=False, normalize=True).sort_index()\n",
    "count_age32.plot(kind = \"bar\",color=\"c\", alpha=.4)\n",
    "\n",
    "plt.subplot(4,3,4)\n",
    "count_age33 = data_M33[\"action_type\"].value_counts(dropna=False, normalize=True).sort_index()\n",
    "count_age33.plot(kind = \"bar\",color=\"c\", alpha=.4)\n",
    "\n",
    "plt.subplot(4,3,5)\n",
    "count_age34 = data_M34[\"action_type\"].value_counts(dropna=False, normalize=True).sort_index()\n",
    "count_age34.plot(kind = \"bar\",color=\"c\", alpha=.4)\n",
    "\n",
    "plt.subplot(4,3,6)\n",
    "count_age35 = data_M35[\"action_type\"].value_counts(dropna=False, normalize=True).sort_index()\n",
    "count_age35.plot(kind = \"bar\",color=\"c\", alpha=.4)\n",
    "\n",
    "plt.subplot(4,3,7)\n",
    "count_age36 = data_M36[\"action_type\"].value_counts(dropna=False, normalize=True).sort_index()\n",
    "count_age36.plot(kind = \"bar\",color=\"c\", alpha=.4)\n",
    "\n",
    "plt.subplot(4,3,8)\n",
    "count_age37 = data_M37[\"action_type\"].value_counts(dropna=False, normalize=True).sort_index()\n",
    "count_age37.plot(kind = \"bar\",color=\"c\", alpha=.4)\n",
    "\n",
    "plt.subplot(4,3,9)\n",
    "count_age38 = data_M38[\"action_type\"].value_counts(dropna=False, normalize=True).sort_index()\n",
    "count_age38.plot(kind = \"bar\",color=\"c\", alpha=.4)\n",
    "\n",
    "plt.subplot(4,3,10)\n",
    "count_age39 = data_M39[\"action_type\"].value_counts(dropna=False, normalize=True).sort_index()\n",
    "count_age39.plot(kind = \"bar\",color=\"c\", alpha=.4)"
   ]
  },
  {
   "cell_type": "markdown",
   "metadata": {},
   "source": [
    "### 男性40代のaction_typeごとの割合"
   ]
  },
  {
   "cell_type": "code",
   "execution_count": 53,
   "metadata": {},
   "outputs": [
    {
     "data": {
      "text/plain": [
       "<matplotlib.axes._subplots.AxesSubplot at 0x1cede49d860>"
      ]
     },
     "execution_count": 53,
     "metadata": {},
     "output_type": "execute_result"
    },
    {
     "data": {
      "image/png": "[encoded data removed]",
      "text/plain": [
       "<matplotlib.figure.Figure at 0x1cf58db1be0>"
      ]
     },
     "metadata": {},
     "output_type": "display_data"
    }
   ],
   "source": [
    "fig = plt.figure(figsize=(9,9)) # figureオブジェクト作成\n",
    "plt.subplot(4,3,1)\n",
    "count_age40 = data_M40[\"action_type\"].value_counts(dropna=False, normalize=True).sort_index()\n",
    "count_age40.plot(kind = \"bar\",color=\"c\", alpha=.4)\n",
    "\n",
    "plt.subplot(4,3,2)\n",
    "count_age41 = data_M41[\"action_type\"].value_counts(dropna=False, normalize=True).sort_index()\n",
    "count_age41.plot(kind = \"bar\",color=\"c\", alpha=.4)\n",
    "\n",
    "plt.subplot(4,3,3)\n",
    "count_age42 = data_M42[\"action_type\"].value_counts(dropna=False, normalize=True).sort_index()\n",
    "count_age42.plot(kind = \"bar\",color=\"c\", alpha=.4)\n",
    "\n",
    "plt.subplot(4,3,4)\n",
    "count_age43 = data_M43[\"action_type\"].value_counts(dropna=False, normalize=True).sort_index()\n",
    "count_age43.plot(kind = \"bar\",color=\"c\", alpha=.4)\n",
    "\n",
    "plt.subplot(4,3,5)\n",
    "count_age44 = data_M44[\"action_type\"].value_counts(dropna=False, normalize=True).sort_index()\n",
    "count_age44.plot(kind = \"bar\",color=\"c\", alpha=.4)\n",
    "\n",
    "plt.subplot(4,3,6)\n",
    "count_age45 = data_M45[\"action_type\"].value_counts(dropna=False, normalize=True).sort_index()\n",
    "count_age45.plot(kind = \"bar\",color=\"c\", alpha=.4)\n",
    "\n",
    "plt.subplot(4,3,7)\n",
    "count_age46 = data_M46[\"action_type\"].value_counts(dropna=False, normalize=True).sort_index()\n",
    "count_age46.plot(kind = \"bar\",color=\"c\", alpha=.4)\n",
    "\n",
    "plt.subplot(4,3,8)\n",
    "count_age47 = data_M47[\"action_type\"].value_counts(dropna=False, normalize=True).sort_index()\n",
    "count_age47.plot(kind = \"bar\",color=\"c\", alpha=.4)\n",
    "\n",
    "plt.subplot(4,3,9)\n",
    "count_age48 = data_M48[\"action_type\"].value_counts(dropna=False, normalize=True).sort_index()\n",
    "count_age48.plot(kind = \"bar\",color=\"c\", alpha=.4)\n",
    "\n",
    "plt.subplot(4,3,10)\n",
    "count_age49 = data_M49[\"action_type\"].value_counts(dropna=False, normalize=True).sort_index()\n",
    "count_age49.plot(kind = \"bar\",color=\"c\", alpha=.4)"
   ]
  },
  {
   "cell_type": "markdown",
   "metadata": {},
   "source": [
    "### 男性50代のaction_typeごとの割合"
   ]
  },
  {
   "cell_type": "code",
   "execution_count": 54,
   "metadata": {},
   "outputs": [
    {
     "data": {
      "text/plain": [
       "<matplotlib.axes._subplots.AxesSubplot at 0x1cf0d84a8d0>"
      ]
     },
     "execution_count": 54,
     "metadata": {},
     "output_type": "execute_result"
    },
    {
     "data": {
      "image/png": "[encoded data removed]",
      "text/plain": [
       "<matplotlib.figure.Figure at 0x1cf57b19fd0>"
      ]
     },
     "metadata": {},
     "output_type": "display_data"
    }
   ],
   "source": [
    "fig = plt.figure(figsize=(9,9)) # figureオブジェクト作成\n",
    "plt.subplot(2,3,1)\n",
    "count_age50 = data_M50[\"action_type\"].value_counts(dropna=False, normalize=True).sort_index()\n",
    "count_age50.plot(kind = \"bar\",color=\"c\", alpha=.4)\n",
    "\n",
    "plt.subplot(2,3,2)\n",
    "count_age51 = data_M51[\"action_type\"].value_counts(dropna=False, normalize=True).sort_index()\n",
    "count_age51.plot(kind = \"bar\",color=\"c\", alpha=.4)\n",
    "\n",
    "plt.subplot(2,3,3)\n",
    "count_age52 = data_M52[\"action_type\"].value_counts(dropna=False, normalize=True).sort_index()\n",
    "count_age52.plot(kind = \"bar\",color=\"c\", alpha=.4)\n",
    "\n",
    "plt.subplot(2,3,4)\n",
    "count_age54 = data_M54[\"action_type\"].value_counts(dropna=False, normalize=True).sort_index()\n",
    "count_age54.plot(kind = \"bar\",color=\"c\", alpha=.4)\n",
    "\n",
    "plt.subplot(2,3,5)\n",
    "count_age55 = data_M55[\"action_type\"].value_counts(dropna=False, normalize=True).sort_index()\n",
    "count_age55.plot(kind = \"bar\",color=\"c\", alpha=.4)\n"
   ]
  },
  {
   "cell_type": "markdown",
   "metadata": {},
   "source": [
    "# 女性の場合"
   ]
  },
  {
   "cell_type": "markdown",
   "metadata": {},
   "source": [
    "### 女性20代のaction_typeごとの割合"
   ]
  },
  {
   "cell_type": "code",
   "execution_count": 55,
   "metadata": {},
   "outputs": [
    {
     "data": {
      "text/plain": [
       "<matplotlib.axes._subplots.AxesSubplot at 0x1cf1298a4a8>"
      ]
     },
     "execution_count": 55,
     "metadata": {},
     "output_type": "execute_result"
    },
    {
     "data": {
      "image/png": "[encoded data removed]",
      "text/plain": [
       "<matplotlib.figure.Figure at 0x1cf5a68a860>"
      ]
     },
     "metadata": {},
     "output_type": "display_data"
    }
   ],
   "source": [
    "fig = plt.figure(figsize=(9,9)) # figureオブジェクト作成\n",
    "plt.subplot(4,3,1)\n",
    "fcount_age20 = data_F20[\"action_type\"].value_counts(dropna=False, normalize=True).sort_index()\n",
    "fcount_age20.plot(kind = \"bar\",color=\"c\", alpha=.4)\n",
    "\n",
    "plt.subplot(4,3,2)\n",
    "fcount_age21 = data_F21[\"action_type\"].value_counts(dropna=False, normalize=True).sort_index()\n",
    "fcount_age21.plot(kind = \"bar\",color=\"c\", alpha=.4)\n",
    "\n",
    "plt.subplot(4,3,3)\n",
    "fcount_age22 = data_F22[\"action_type\"].value_counts(dropna=False, normalize=True).sort_index()\n",
    "fcount_age22.plot(kind = \"bar\",color=\"c\", alpha=.4)\n",
    "\n",
    "plt.subplot(4,3,4)\n",
    "fcount_age23 = data_F23[\"action_type\"].value_counts(dropna=False, normalize=True).sort_index()\n",
    "fcount_age23.plot(kind = \"bar\",color=\"c\", alpha=.4)\n",
    "\n",
    "plt.subplot(4,3,5)\n",
    "fcount_age24 = data_F24[\"action_type\"].value_counts(dropna=False, normalize=True).sort_index()\n",
    "fcount_age24.plot(kind = \"bar\",color=\"c\", alpha=.4)\n",
    "\n",
    "plt.subplot(4,3,6)\n",
    "fcount_age25 = data_F25[\"action_type\"].value_counts(dropna=False, normalize=True).sort_index()\n",
    "fcount_age25.plot(kind = \"bar\",color=\"c\", alpha=.4)\n",
    "\n",
    "plt.subplot(4,3,7)\n",
    "fcount_age26 = data_F26[\"action_type\"].value_counts(dropna=False, normalize=True).sort_index()\n",
    "fcount_age26.plot(kind = \"bar\",color=\"c\", alpha=.4)\n",
    "\n",
    "plt.subplot(4,3,8)\n",
    "fcount_age27 = data_F27[\"action_type\"].value_counts(dropna=False, normalize=True).sort_index()\n",
    "fcount_age27.plot(kind = \"bar\",color=\"c\", alpha=.4)\n",
    "\n",
    "plt.subplot(4,3,9)\n",
    "fcount_age28 = data_F28[\"action_type\"].value_counts(dropna=False, normalize=True).sort_index()\n",
    "fcount_age28.plot(kind = \"bar\",color=\"c\", alpha=.4)\n",
    "\n",
    "plt.subplot(4,3,10)\n",
    "fcount_age29 = data_F29[\"action_type\"].value_counts(dropna=False, normalize=True).sort_index()\n",
    "fcount_age29.plot(kind = \"bar\",color=\"c\", alpha=.4)"
   ]
  },
  {
   "cell_type": "markdown",
   "metadata": {},
   "source": [
    "### 女性30代のaction_typeごとの割合"
   ]
  },
  {
   "cell_type": "code",
   "execution_count": 56,
   "metadata": {},
   "outputs": [
    {
     "data": {
      "text/plain": [
       "<matplotlib.axes._subplots.AxesSubplot at 0x1cf1d9bee80>"
      ]
     },
     "execution_count": 56,
     "metadata": {},
     "output_type": "execute_result"
    },
    {
     "data": {
      "image/png": "[encoded data removed]",
      "text/plain": [
       "<matplotlib.figure.Figure at 0x1cf5ad406d8>"
      ]
     },
     "metadata": {},
     "output_type": "display_data"
    }
   ],
   "source": [
    "fig = plt.figure(figsize=(9,9)) # figureオブジェクト作成\n",
    "plt.subplot(4,3,1)\n",
    "fcount_age30 = data_F30[\"action_type\"].value_counts(dropna=False, normalize=True).sort_index()\n",
    "fcount_age30.plot(kind = \"bar\",color=\"c\", alpha=.4)\n",
    "\n",
    "plt.subplot(4,3,2)\n",
    "fcount_age31 = data_F31[\"action_type\"].value_counts(dropna=False, normalize=True).sort_index()\n",
    "fcount_age31.plot(kind = \"bar\",color=\"c\", alpha=.4)\n",
    "\n",
    "plt.subplot(4,3,3)\n",
    "fcount_age32 = data_F32[\"action_type\"].value_counts(dropna=False, normalize=True).sort_index()\n",
    "fcount_age32.plot(kind = \"bar\",color=\"c\", alpha=.4)\n",
    "\n",
    "plt.subplot(4,3,4)\n",
    "fcount_age33 = data_F33[\"action_type\"].value_counts(dropna=False, normalize=True).sort_index()\n",
    "fcount_age33.plot(kind = \"bar\",color=\"c\", alpha=.4)\n",
    "\n",
    "plt.subplot(4,3,5)\n",
    "fcount_age34 = data_F34[\"action_type\"].value_counts(dropna=False, normalize=True).sort_index()\n",
    "fcount_age34.plot(kind = \"bar\",color=\"c\", alpha=.4)\n",
    "\n",
    "plt.subplot(4,3,6)\n",
    "fcount_age35 = data_F35[\"action_type\"].value_counts(dropna=False, normalize=True).sort_index()\n",
    "fcount_age35.plot(kind = \"bar\",color=\"c\", alpha=.4)\n",
    "\n",
    "plt.subplot(4,3,7)\n",
    "fcount_age36 = data_F36[\"action_type\"].value_counts(dropna=False, normalize=True).sort_index()\n",
    "fcount_age36.plot(kind = \"bar\",color=\"c\", alpha=.4)\n",
    "\n",
    "plt.subplot(4,3,8)\n",
    "fcount_age37 = data_F37[\"action_type\"].value_counts(dropna=False, normalize=True).sort_index()\n",
    "fcount_age37.plot(kind = \"bar\",color=\"c\", alpha=.4)\n",
    "\n",
    "plt.subplot(4,3,9)\n",
    "fcount_age38 = data_F38[\"action_type\"].value_counts(dropna=False, normalize=True).sort_index()\n",
    "fcount_age38.plot(kind = \"bar\",color=\"c\", alpha=.4)\n",
    "\n",
    "plt.subplot(4,3,10)\n",
    "fcount_age39 = data_F39[\"action_type\"].value_counts(dropna=False, normalize=True).sort_index()\n",
    "fcount_age39.plot(kind = \"bar\",color=\"c\", alpha=.4)"
   ]
  },
  {
   "cell_type": "markdown",
   "metadata": {},
   "source": [
    "### 女性40代のaction_typeごとの割合"
   ]
  },
  {
   "cell_type": "code",
   "execution_count": 57,
   "metadata": {},
   "outputs": [
    {
     "data": {
      "text/plain": [
       "<matplotlib.axes._subplots.AxesSubplot at 0x1cf1eeb0080>"
      ]
     },
     "execution_count": 57,
     "metadata": {},
     "output_type": "execute_result"
    },
    {
     "data": {
      "image/png": "[encoded data removed]",
      "text/plain": [
       "<matplotlib.figure.Figure at 0x1cf5b3efc50>"
      ]
     },
     "metadata": {},
     "output_type": "display_data"
    }
   ],
   "source": [
    "fig = plt.figure(figsize=(9,9)) # figureオブジェクト作成\n",
    "plt.subplot(4,3,1)\n",
    "fcount_age40 = data_F40[\"action_type\"].value_counts(dropna=False, normalize=True).sort_index()\n",
    "fcount_age40.plot(kind = \"bar\",color=\"c\", alpha=.4)\n",
    "\n",
    "plt.subplot(4,3,2)\n",
    "fcount_age41 = data_F41[\"action_type\"].value_counts(dropna=False, normalize=True).sort_index()\n",
    "fcount_age41.plot(kind = \"bar\",color=\"c\", alpha=.4)\n",
    "\n",
    "plt.subplot(4,3,3)\n",
    "fcount_age42 = data_F42[\"action_type\"].value_counts(dropna=False, normalize=True).sort_index()\n",
    "fcount_age42.plot(kind = \"bar\",color=\"c\", alpha=.4)\n",
    "\n",
    "plt.subplot(4,3,4)\n",
    "fcount_age43 = data_F43[\"action_type\"].value_counts(dropna=False, normalize=True).sort_index()\n",
    "fcount_age43.plot(kind = \"bar\",color=\"c\", alpha=.4)\n",
    "\n",
    "plt.subplot(4,3,5)\n",
    "fcount_age44 = data_F44[\"action_type\"].value_counts(dropna=False, normalize=True).sort_index()\n",
    "fcount_age44.plot(kind = \"bar\",color=\"c\", alpha=.4)\n",
    "\n",
    "plt.subplot(4,3,6)\n",
    "fcount_age45 = data_F45[\"action_type\"].value_counts(dropna=False, normalize=True).sort_index()\n",
    "fcount_age45.plot(kind = \"bar\",color=\"c\", alpha=.4)\n",
    "\n",
    "plt.subplot(4,3,7)\n",
    "fcount_age46 = data_F46[\"action_type\"].value_counts(dropna=False, normalize=True).sort_index()\n",
    "fcount_age46.plot(kind = \"bar\",color=\"c\", alpha=.4)\n",
    "\n",
    "plt.subplot(4,3,8)\n",
    "fcount_age47 = data_F47[\"action_type\"].value_counts(dropna=False, normalize=True).sort_index()\n",
    "fcount_age47.plot(kind = \"bar\",color=\"c\", alpha=.4)\n",
    "\n",
    "plt.subplot(4,3,9)\n",
    "fcount_age48 = data_F48[\"action_type\"].value_counts(dropna=False, normalize=True).sort_index()\n",
    "fcount_age48.plot(kind = \"bar\",color=\"c\", alpha=.4)\n",
    "\n",
    "plt.subplot(4,3,10)\n",
    "fcount_age49 = data_F49[\"action_type\"].value_counts(dropna=False, normalize=True).sort_index()\n",
    "fcount_age49.plot(kind = \"bar\",color=\"c\", alpha=.4)"
   ]
  },
  {
   "cell_type": "markdown",
   "metadata": {},
   "source": [
    "### 女性50代のaction_typeごとの割合"
   ]
  },
  {
   "cell_type": "code",
   "execution_count": 58,
   "metadata": {},
   "outputs": [
    {
     "data": {
      "text/plain": [
       "<matplotlib.axes._subplots.AxesSubplot at 0x1cf1f2609e8>"
      ]
     },
     "execution_count": 58,
     "metadata": {},
     "output_type": "execute_result"
    },
    {
     "data": {
      "image/png": "[encoded data removed]",
      "text/plain": [
       "<matplotlib.figure.Figure at 0x1cf57feb358>"
      ]
     },
     "metadata": {},
     "output_type": "display_data"
    }
   ],
   "source": [
    "fig = plt.figure(figsize=(9,9)) # figureオブジェクト作成\n",
    "plt.subplot(3,3,1)\n",
    "fcount_age50 = data_F50[\"action_type\"].value_counts(dropna=False, normalize=True).sort_index()\n",
    "fcount_age50.plot(kind = \"bar\",color=\"c\", alpha=.4)\n",
    "\n",
    "plt.subplot(3,3,2)\n",
    "fcount_age51 = data_F51[\"action_type\"].value_counts(dropna=False, normalize=True).sort_index()\n",
    "fcount_age51.plot(kind = \"bar\",color=\"c\", alpha=.4)\n",
    "\n",
    "plt.subplot(3,3,3)\n",
    "fcount_age52 = data_F52[\"action_type\"].value_counts(dropna=False, normalize=True).sort_index()\n",
    "fcount_age52.plot(kind = \"bar\",color=\"c\", alpha=.4)\n",
    "\n",
    "plt.subplot(3,3,4)\n",
    "fcount_age53 = data_F53[\"action_type\"].value_counts(dropna=False, normalize=True).sort_index()\n",
    "fcount_age53.plot(kind = \"bar\",color=\"c\", alpha=.4)\n",
    "\n",
    "plt.subplot(3,3,5)\n",
    "fcount_age54 = data_F54[\"action_type\"].value_counts(dropna=False, normalize=True).sort_index()\n",
    "fcount_age54.plot(kind = \"bar\",color=\"c\", alpha=.4)\n",
    "\n",
    "plt.subplot(3,3,6)\n",
    "fcount_age56 = data_F56[\"action_type\"].value_counts(dropna=False, normalize=True).sort_index()\n",
    "fcount_age56.plot(kind = \"bar\",color=\"c\", alpha=.4)\n",
    "                  \n",
    "plt.subplot(3,3,7)\n",
    "fcount_age58 = data_F58[\"action_type\"].value_counts(dropna=False, normalize=True).sort_index()\n",
    "fcount_age58.plot(kind = \"bar\",color=\"c\", alpha=.4)"
   ]
  },
  {
   "cell_type": "markdown",
   "metadata": {},
   "source": [
    "#### eventの月ごとの比較"
   ]
  },
  {
   "cell_type": "markdown",
   "metadata": {},
   "source": [
    "男女を月で分割"
   ]
  },
  {
   "cell_type": "code",
   "execution_count": 40,
   "metadata": {
    "scrolled": true
   },
   "outputs": [
    {
     "name": "stdout",
     "output_type": "stream",
     "text": [
      "data_M_month1= data_M[data_M['event_month'] == 1]\n",
      "data_M_month2= data_M[data_M['event_month'] == 2]\n",
      "data_M_month3= data_M[data_M['event_month'] == 3]\n",
      "data_M_month4= data_M[data_M['event_month'] == 4]\n",
      "data_M_month5= data_M[data_M['event_month'] == 5]\n",
      "data_M_month6= data_M[data_M['event_month'] == 6]\n",
      "data_M_month7= data_M[data_M['event_month'] == 7]\n",
      "data_M_month8= data_M[data_M['event_month'] == 8]\n",
      "data_M_month9= data_M[data_M['event_month'] == 9]\n",
      "data_M_month10= data_M[data_M['event_month'] == 10]\n",
      "data_M_month11= data_M[data_M['event_month'] == 11]\n",
      "data_M_month12= data_M[data_M['event_month'] == 12]\n",
      "\n",
      "data_F_month1= data_M[data_M['event_month'] == 1]\n",
      "data_F_month2= data_M[data_M['event_month'] == 2]\n",
      "data_F_month3= data_M[data_M['event_month'] == 3]\n",
      "data_F_month4= data_M[data_M['event_month'] == 4]\n",
      "data_F_month5= data_M[data_M['event_month'] == 5]\n",
      "data_F_month6= data_M[data_M['event_month'] == 6]\n",
      "data_F_month7= data_M[data_M['event_month'] == 7]\n",
      "data_F_month8= data_M[data_M['event_month'] == 8]\n",
      "data_F_month9= data_M[data_M['event_month'] == 9]\n",
      "data_F_month10= data_M[data_M['event_month'] == 10]\n",
      "data_F_month11= data_M[data_M['event_month'] == 11]\n",
      "data_F_month12= data_M[data_M['event_month'] == 12]\n"
     ]
    }
   ],
   "source": [
    "moji_1 = \"data_M_month\"\n",
    "moji_2 =\"= data_M[data_M['event_month'] == \"\n",
    "moji_3= \"]\"\n",
    "for i in range(1,13):\n",
    "    print (moji_1 + '%d'%i + moji_2 + '%d'%i + moji_3 ) \n",
    "\n",
    "print(\"\")    \n",
    "\n",
    "moji_1 = \"data_F_month\"\n",
    "moji_2 =\"= data_M[data_M['event_month'] == \"\n",
    "moji_3= \"]\"\n",
    "for i in range(1,13):\n",
    "    print (moji_1 + '%d'%i + moji_2 + '%d'%i + moji_3 ) "
   ]
  },
  {
   "cell_type": "code",
   "execution_count": 41,
   "metadata": {},
   "outputs": [],
   "source": [
    "data_M_month1= data_M[data_M['event_month'] == 1]\n",
    "data_M_month2= data_M[data_M['event_month'] == 2]\n",
    "data_M_month3= data_M[data_M['event_month'] == 3]\n",
    "data_M_month4= data_M[data_M['event_month'] == 4]\n",
    "data_M_month5= data_M[data_M['event_month'] == 5]\n",
    "data_M_month6= data_M[data_M['event_month'] == 6]\n",
    "data_M_month7= data_M[data_M['event_month'] == 7]\n",
    "data_M_month8= data_M[data_M['event_month'] == 8]\n",
    "data_M_month9= data_M[data_M['event_month'] == 9]\n",
    "data_M_month10= data_M[data_M['event_month'] == 10]\n",
    "data_M_month11= data_M[data_M['event_month'] == 11]\n",
    "data_M_month12= data_M[data_M['event_month'] == 12]\n",
    "\n",
    "data_F_month1= data_M[data_M['event_month'] == 1]\n",
    "data_F_month2= data_M[data_M['event_month'] == 2]\n",
    "data_F_month3= data_M[data_M['event_month'] == 3]\n",
    "data_F_month4= data_M[data_M['event_month'] == 4]\n",
    "data_F_month5= data_M[data_M['event_month'] == 5]\n",
    "data_F_month6= data_M[data_M['event_month'] == 6]\n",
    "data_F_month7= data_M[data_M['event_month'] == 7]\n",
    "data_F_month8= data_M[data_M['event_month'] == 8]\n",
    "data_F_month9= data_M[data_M['event_month'] == 9]\n",
    "data_F_month10= data_M[data_M['event_month'] == 10]\n",
    "data_F_month11= data_M[data_M['event_month'] == 11]\n",
    "data_F_month12= data_M[data_M['event_month'] == 12]"
   ]
  },
  {
   "cell_type": "markdown",
   "metadata": {},
   "source": [
    "### 男性の月ごと"
   ]
  },
  {
   "cell_type": "code",
   "execution_count": 59,
   "metadata": {},
   "outputs": [
    {
     "data": {
      "text/plain": [
       "<matplotlib.axes._subplots.AxesSubplot at 0x1cf36521b00>"
      ]
     },
     "execution_count": 59,
     "metadata": {},
     "output_type": "execute_result"
    },
    {
     "data": {
      "image/png": "[encoded data removed]",
      "text/plain": [
       "<matplotlib.figure.Figure at 0x1cf5bdec9b0>"
      ]
     },
     "metadata": {},
     "output_type": "display_data"
    }
   ],
   "source": [
    "fig = plt.figure(figsize=(9,9)) # figureオブジェクト作成\n",
    "plt.subplot(4,3,1)\n",
    "count_month1 = data_M_month1[\"action_type\"].value_counts(dropna=False, normalize=True).sort_index()\n",
    "count_month1.plot(kind = \"bar\",color=\"c\", alpha=.4)\n",
    "\n",
    "plt.subplot(4,3,2)\n",
    "count_month2 = data_M_month2[\"action_type\"].value_counts(dropna=False, normalize=True).sort_index()\n",
    "count_month2.plot(kind = \"bar\",color=\"c\", alpha=.4)\n",
    "\n",
    "plt.subplot(4,3,3)\n",
    "count_month3 = data_M_month3[\"action_type\"].value_counts(dropna=False, normalize=True).sort_index()\n",
    "count_month3.plot(kind = \"bar\",color=\"c\", alpha=.4)\n",
    "\n",
    "plt.subplot(4,3,4)\n",
    "count_month4 = data_M_month4[\"action_type\"].value_counts(dropna=False, normalize=True).sort_index()\n",
    "count_month4.plot(kind = \"bar\",color=\"c\", alpha=.4)\n",
    "\n",
    "plt.subplot(4,3,5)\n",
    "count_Mmonth5 = data_M_month5[\"action_type\"].value_counts(dropna=False, normalize=True).sort_index()\n",
    "count_Mmonth5.plot(kind = \"bar\",color=\"c\", alpha=.4)\n",
    "\n",
    "plt.subplot(4,3,6)\n",
    "count_Mmonth6 = data_M_month6[\"action_type\"].value_counts(dropna=False, normalize=True).sort_index()\n",
    "count_Mmonth6.plot(kind = \"bar\",color=\"c\", alpha=.4)\n",
    "\n",
    "plt.subplot(4,3,7)\n",
    "count_Mmonth7 = data_M_month7[\"action_type\"].value_counts(dropna=False, normalize=True).sort_index()\n",
    "count_Mmonth7.plot(kind = \"bar\",color=\"c\", alpha=.4)\n",
    "\n",
    "plt.subplot(4,3,8)\n",
    "count_Mmonth8 = data_M_month8[\"action_type\"].value_counts(dropna=False, normalize=True).sort_index()\n",
    "count_Mmonth8.plot(kind = \"bar\",color=\"c\", alpha=.4)\n",
    "\n",
    "plt.subplot(4,3,9)\n",
    "count_Mmonth9 = data_M_month9[\"action_type\"].value_counts(dropna=False, normalize=True).sort_index()\n",
    "count_Mmonth9.plot(kind = \"bar\",color=\"c\", alpha=.4)\n",
    "\n",
    "plt.subplot(4,3,10)\n",
    "count_month10 = data_M_month10[\"action_type\"].value_counts(dropna=False, normalize=True).sort_index()\n",
    "count_month10.plot(kind = \"bar\",color=\"c\", alpha=.4)\n",
    "\n",
    "plt.subplot(4,3,11)\n",
    "count_month11 = data_M_month11[\"action_type\"].value_counts(dropna=False, normalize=True).sort_index()\n",
    "count_month11.plot(kind = \"bar\",color=\"c\", alpha=.4)\n",
    "\n",
    "plt.subplot(4,3,12)\n",
    "count_month12 = data_M_month12[\"action_type\"].value_counts(dropna=False, normalize=True).sort_index()\n",
    "count_month12.plot(kind = \"bar\",color=\"c\", alpha=.4)"
   ]
  },
  {
   "cell_type": "markdown",
   "metadata": {},
   "source": [
    "### 女性の月ごと"
   ]
  },
  {
   "cell_type": "code",
   "execution_count": 60,
   "metadata": {
    "scrolled": false
   },
   "outputs": [
    {
     "data": {
      "text/plain": [
       "<matplotlib.axes._subplots.AxesSubplot at 0x1cf36b98f60>"
      ]
     },
     "execution_count": 60,
     "metadata": {},
     "output_type": "execute_result"
    },
    {
     "data": {
      "image/png": "[encoded data removed]",
      "text/plain": [
       "<matplotlib.figure.Figure at 0x1cf5c710a20>"
      ]
     },
     "metadata": {},
     "output_type": "display_data"
    }
   ],
   "source": [
    "fig = plt.figure(figsize=(9,9)) # figureオブジェクト作成\n",
    "plt.subplot(4,3,1)\n",
    "fcount_month1 = data_F_month1[\"action_type\"].value_counts(dropna=False, normalize=True).sort_index()\n",
    "fcount_month1.plot(kind = \"bar\",color=\"c\", alpha=.4)\n",
    "\n",
    "plt.subplot(4,3,2)\n",
    "fcount_month2 = data_F_month2[\"action_type\"].value_counts(dropna=False, normalize=True).sort_index()\n",
    "fcount_month2.plot(kind = \"bar\",color=\"c\", alpha=.4)\n",
    "\n",
    "plt.subplot(4,3,3)\n",
    "fcount_month3 = data_F_month3[\"action_type\"].value_counts(dropna=False, normalize=True).sort_index()\n",
    "fcount_month3.plot(kind = \"bar\",color=\"c\", alpha=.4)\n",
    "\n",
    "plt.subplot(4,3,4)\n",
    "fcount_month4 = data_F_month4[\"action_type\"].value_counts(dropna=False, normalize=True).sort_index()\n",
    "fcount_month4.plot(kind = \"bar\",color=\"c\", alpha=.4)\n",
    "\n",
    "plt.subplot(4,3,5)\n",
    "fcount_Mmonth5 = data_F_month5[\"action_type\"].value_counts(dropna=False, normalize=True).sort_index()\n",
    "fcount_Mmonth5.plot(kind = \"bar\",color=\"c\", alpha=.4)\n",
    "\n",
    "plt.subplot(4,3,6)\n",
    "fcount_Mmonth6 = data_F_month6[\"action_type\"].value_counts(dropna=False, normalize=True).sort_index()\n",
    "fcount_Mmonth6.plot(kind = \"bar\",color=\"c\", alpha=.4)\n",
    "\n",
    "plt.subplot(4,3,7)\n",
    "fcount_Mmonth7 = data_F_month7[\"action_type\"].value_counts(dropna=False, normalize=True).sort_index()\n",
    "fcount_Mmonth7.plot(kind = \"bar\",color=\"c\", alpha=.4)\n",
    "\n",
    "plt.subplot(4,3,8)\n",
    "fcount_Mmonth8 = data_F_month8[\"action_type\"].value_counts(dropna=False, normalize=True).sort_index()\n",
    "fcount_Mmonth8.plot(kind = \"bar\",color=\"c\", alpha=.4)\n",
    "\n",
    "plt.subplot(4,3,9)\n",
    "fcount_Mmonth9 = data_F_month9[\"action_type\"].value_counts(dropna=False, normalize=True).sort_index()\n",
    "fcount_Mmonth9.plot(kind = \"bar\",color=\"c\", alpha=.4)\n",
    "\n",
    "plt.subplot(4,3,10)\n",
    "fcount_month10 = data_F_month10[\"action_type\"].value_counts(dropna=False, normalize=True).sort_index()\n",
    "fcount_month10.plot(kind = \"bar\",color=\"c\", alpha=.4)\n",
    "\n",
    "plt.subplot(4,3,11)\n",
    "fcount_month11 = data_F_month11[\"action_type\"].value_counts(dropna=False, normalize=True).sort_index()\n",
    "fcount_month11.plot(kind = \"bar\",color=\"c\", alpha=.4)\n",
    "\n",
    "plt.subplot(4,3,12)\n",
    "fcount_month12 = data_F_month12[\"action_type\"].value_counts(dropna=False, normalize=True).sort_index()\n",
    "fcount_month12.plot(kind = \"bar\",color=\"c\", alpha=.4)"
   ]
  },
  {
   "cell_type": "markdown",
   "metadata": {},
   "source": [
    "#### event開始時間ごとのaction_type比較"
   ]
  },
  {
   "cell_type": "code",
   "execution_count": 44,
   "metadata": {},
   "outputs": [
    {
     "data": {
      "text/plain": [
       "Index(['male_age_lower', 'age', 'event_weekday', 'male_price',\n",
       "       'female_age_upper', 'female_price', 'event_day', 'user_year',\n",
       "       'female_age_lower', 'user_month', 'event_month', 'event_hour',\n",
       "       'action_type', 'male_age_upper', 'event_year', 'gender',\n",
       "       'event_prefecture', 'user_prefecture'],\n",
       "      dtype='object')"
      ]
     },
     "execution_count": 44,
     "metadata": {},
     "output_type": "execute_result"
    }
   ],
   "source": [
    "data_M.columns"
   ]
  },
  {
   "cell_type": "code",
   "execution_count": 45,
   "metadata": {},
   "outputs": [
    {
     "name": "stdout",
     "output_type": "stream",
     "text": [
      "0        116\n",
      "7         15\n",
      "8         17\n",
      "9       5122\n",
      "10      5648\n",
      "11     15459\n",
      "12     55278\n",
      "13    103503\n",
      "14    135992\n",
      "15     43337\n",
      "16     26777\n",
      "17     44677\n",
      "18     54181\n",
      "19    158452\n",
      "20     51958\n",
      "21      1436\n",
      "22       342\n",
      "23        52\n",
      "Name: event_hour, dtype: int64\n"
     ]
    }
   ],
   "source": [
    "print(data_M[\"event_hour\"].value_counts(dropna=False, normalize=False).sort_index())  #20~55最の36通りデータ分割"
   ]
  },
  {
   "cell_type": "code",
   "execution_count": 46,
   "metadata": {},
   "outputs": [],
   "source": [
    "data_M_hour0= data_M[data_M['event_hour'] == 0]\n",
    "data_M_hour7= data_M[data_M['event_hour'] == 7]\n",
    "data_M_hour8= data_M[data_M['event_hour'] == 8]\n",
    "data_M_hour9= data_M[data_M['event_hour'] == 9]\n",
    "data_M_hour10= data_M[data_M['event_hour'] == 10]\n",
    "data_M_hour11= data_M[data_M['event_hour'] == 11]\n",
    "data_M_hour12= data_M[data_M['event_hour'] == 12]\n",
    "data_M_hour13= data_M[data_M['event_hour'] == 13]\n",
    "data_M_hour14= data_M[data_M['event_hour'] == 14]\n",
    "data_M_hour15= data_M[data_M['event_hour'] == 15]\n",
    "data_M_hour16= data_M[data_M['event_hour'] == 16]\n",
    "data_M_hour17= data_M[data_M['event_hour'] == 17]\n",
    "data_M_hour18= data_M[data_M['event_hour'] == 18]\n",
    "data_M_hour19= data_M[data_M['event_hour'] == 19]\n",
    "data_M_hour20= data_M[data_M['event_hour'] == 20]\n",
    "data_M_hour21= data_M[data_M['event_hour'] == 21]\n",
    "data_M_hour22= data_M[data_M['event_hour'] == 22]\n",
    "data_M_hour23= data_M[data_M['event_hour'] == 23]\n",
    "\n",
    "data_F_hour0= data_F[data_F['event_hour'] == 0]\n",
    "data_F_hour7= data_F[data_F['event_hour'] == 7]\n",
    "data_F_hour8= data_F[data_F['event_hour'] == 8]\n",
    "data_F_hour9= data_F[data_F['event_hour'] == 9]\n",
    "data_F_hour10= data_F[data_F['event_hour'] == 10]\n",
    "data_F_hour11= data_F[data_F['event_hour'] == 11]\n",
    "data_F_hour12= data_F[data_F['event_hour'] == 12]\n",
    "data_F_hour13= data_F[data_F['event_hour'] == 13]\n",
    "data_F_hour14= data_F[data_F['event_hour'] == 14]\n",
    "data_F_hour15= data_F[data_F['event_hour'] == 15]\n",
    "data_F_hour16= data_F[data_F['event_hour'] == 16]\n",
    "data_F_hour17= data_F[data_F['event_hour'] == 17]\n",
    "data_F_hour18= data_F[data_F['event_hour'] == 18]\n",
    "data_F_hour19= data_F[data_F['event_hour'] == 19]\n",
    "data_F_hour20= data_F[data_F['event_hour'] == 20]\n",
    "data_F_hour21= data_F[data_F['event_hour'] == 21]\n",
    "data_F_hour22= data_F[data_F['event_hour'] == 22]\n",
    "data_F_hour23 =data_F[data_F['event_hour'] == 23]"
   ]
  },
  {
   "cell_type": "markdown",
   "metadata": {},
   "source": [
    "男性のイベント開始時間"
   ]
  },
  {
   "cell_type": "code",
   "execution_count": 61,
   "metadata": {},
   "outputs": [
    {
     "data": {
      "text/plain": [
       "<matplotlib.axes._subplots.AxesSubplot at 0x1cf57434c50>"
      ]
     },
     "execution_count": 61,
     "metadata": {},
     "output_type": "execute_result"
    },
    {
     "data": {
      "image/png": "[encoded data removed]",
      "text/plain": [
       "<matplotlib.figure.Figure at 0x1cf5c9dbf98>"
      ]
     },
     "metadata": {},
     "output_type": "display_data"
    }
   ],
   "source": [
    "fig = plt.figure(figsize=(9,9)) # figureオブジェクト作成\n",
    "plt.subplot(4,5,1)\n",
    "count_M_hour0 =data_M_hour0[\"action_type\"].value_counts(dropna=False, normalize=True).sort_index()\n",
    "count_M_hour0.plot(kind = \"bar\",color=\"c\", alpha=.4)\n",
    "\n",
    "plt.subplot(4,5,2)\n",
    "count_M_hour7 = data_M_hour7[\"action_type\"].value_counts(dropna=False, normalize=True).sort_index()\n",
    "count_M_hour7.plot(kind = \"bar\",color=\"c\", alpha=.4)\n",
    "\n",
    "plt.subplot(4,5,3)\n",
    "count_M_hour8 = data_M_hour8[\"action_type\"].value_counts(dropna=False, normalize=True).sort_index()\n",
    "count_M_hour8.plot(kind = \"bar\",color=\"c\", alpha=.4)\n",
    "\n",
    "plt.subplot(4,5,4)\n",
    "count_M_hour9 = data_M_hour9[\"action_type\"].value_counts(dropna=False, normalize=True).sort_index()\n",
    "count_M_hour9.plot(kind = \"bar\",color=\"c\", alpha=.4)\n",
    "\n",
    "plt.subplot(4,5,5)\n",
    "count_M_hour10 = data_M_hour10[\"action_type\"].value_counts(dropna=False, normalize=True).sort_index()\n",
    "count_M_hour10.plot(kind = \"bar\",color=\"c\", alpha=.4)\n",
    "\n",
    "plt.subplot(4,5,6)\n",
    "count_M_hour11 =data_M_hour11[\"action_type\"].value_counts(dropna=False, normalize=True).sort_index()\n",
    "count_M_hour11.plot(kind = \"bar\",color=\"c\", alpha=.4)\n",
    "\n",
    "plt.subplot(4,5,7)\n",
    "count_M_hour12 = data_M_hour12[\"action_type\"].value_counts(dropna=False, normalize=True).sort_index()\n",
    "count_M_hour12.plot(kind = \"bar\",color=\"c\", alpha=.4)\n",
    "\n",
    "plt.subplot(4,5,8)\n",
    "count_M_hour13 =data_M_hour13[\"action_type\"].value_counts(dropna=False, normalize=True).sort_index()\n",
    "count_M_hour13.plot(kind = \"bar\",color=\"c\", alpha=.4)\n",
    "\n",
    "plt.subplot(4,5,9)\n",
    "count_M_hour14 = data_M_hour14[\"action_type\"].value_counts(dropna=False, normalize=True).sort_index()\n",
    "count_M_hour14.plot(kind = \"bar\",color=\"c\", alpha=.4)\n",
    "\n",
    "plt.subplot(4,5,10)\n",
    "count_M_hour15= data_M_hour15[\"action_type\"].value_counts(dropna=False, normalize=True).sort_index()\n",
    "count_M_hour15.plot(kind = \"bar\",color=\"c\", alpha=.4)\n",
    "\n",
    "plt.subplot(4,5,11)\n",
    "count_M_hour16= data_M_hour16[\"action_type\"].value_counts(dropna=False, normalize=True).sort_index()\n",
    "count_M_hour16.plot(kind = \"bar\",color=\"c\", alpha=.4)\n",
    "\n",
    "plt.subplot(4,5,12)\n",
    "count_M_hour17 = data_M_hour17[\"action_type\"].value_counts(dropna=False, normalize=True).sort_index()\n",
    "count_M_hour17.plot(kind = \"bar\",color=\"c\", alpha=.4)\n",
    "\n",
    "plt.subplot(4,5,13)\n",
    "count_M_hour18 =data_M_hour18[\"action_type\"].value_counts(dropna=False, normalize=True).sort_index()\n",
    "count_M_hour18.plot(kind = \"bar\",color=\"c\", alpha=.4)\n",
    "\n",
    "plt.subplot(4,5,14)\n",
    "count_M_hour19 = data_M_hour19[\"action_type\"].value_counts(dropna=False, normalize=True).sort_index()\n",
    "count_M_hour19.plot(kind = \"bar\",color=\"c\", alpha=.4)\n",
    "\n",
    "plt.subplot(4,5,15)\n",
    "count_M_hour20= data_M_hour20[\"action_type\"].value_counts(dropna=False, normalize=True).sort_index()\n",
    "count_M_hour20.plot(kind = \"bar\",color=\"c\", alpha=.4)\n",
    "\n",
    "plt.subplot(4,5,16)\n",
    "count_M_hour21= data_M_hour21[\"action_type\"].value_counts(dropna=False, normalize=True).sort_index()\n",
    "count_M_hour21.plot(kind = \"bar\",color=\"c\", alpha=.4)\n",
    "\n",
    "plt.subplot(4,5,17)\n",
    "count_M_hour22 = data_M_hour22[\"action_type\"].value_counts(dropna=False, normalize=True).sort_index()\n",
    "count_M_hour22.plot(kind = \"bar\",color=\"c\", alpha=.4)\n",
    "\n",
    "plt.subplot(4,5,18)\n",
    "count_M_hour23 = data_M_hour23[\"action_type\"].value_counts(dropna=False, normalize=True).sort_index()\n",
    "count_M_hour23.plot(kind = \"bar\",color=\"c\", alpha=.4)"
   ]
  },
  {
   "cell_type": "markdown",
   "metadata": {},
   "source": [
    "女性のイベント開始時間ごとのaction_type"
   ]
  },
  {
   "cell_type": "code",
   "execution_count": 62,
   "metadata": {},
   "outputs": [
    {
     "data": {
      "text/plain": [
       "<matplotlib.axes._subplots.AxesSubplot at 0x1cf57e54f60>"
      ]
     },
     "execution_count": 62,
     "metadata": {},
     "output_type": "execute_result"
    },
    {
     "data": {
      "image/png": "[encoded data removed]",
      "text/plain": [
       "<matplotlib.figure.Figure at 0x1cf5e6c0e10>"
      ]
     },
     "metadata": {},
     "output_type": "display_data"
    }
   ],
   "source": [
    "fig = plt.figure(figsize=(9,9)) # figureオブジェクト作成\n",
    "plt.subplot(4,5,1)\n",
    "count_F_hour0 =data_F_hour0[\"action_type\"].value_counts(dropna=False, normalize=True).sort_index()\n",
    "count_F_hour0.plot(kind = \"bar\",color=\"c\", alpha=.4)\n",
    "\n",
    "plt.subplot(4,5,2)\n",
    "count_F_hour7 = data_F_hour7[\"action_type\"].value_counts(dropna=False, normalize=True).sort_index()\n",
    "count_F_hour7.plot(kind = \"bar\",color=\"c\", alpha=.4)\n",
    "\n",
    "plt.subplot(4,5,3)\n",
    "count_F_hour8 = data_F_hour8[\"action_type\"].value_counts(dropna=False, normalize=True).sort_index()\n",
    "count_F_hour8.plot(kind = \"bar\",color=\"c\", alpha=.4)\n",
    "\n",
    "plt.subplot(4,5,4)\n",
    "count_F_hour9 = data_F_hour9[\"action_type\"].value_counts(dropna=False, normalize=True).sort_index()\n",
    "count_F_hour9.plot(kind = \"bar\",color=\"c\", alpha=.4)\n",
    "\n",
    "plt.subplot(4,5,5)\n",
    "count_F_hour10 = data_F_hour10[\"action_type\"].value_counts(dropna=False, normalize=True).sort_index()\n",
    "count_F_hour10.plot(kind = \"bar\",color=\"c\", alpha=.4)\n",
    "\n",
    "plt.subplot(4,5,6)\n",
    "count_F_hour11 =data_F_hour11[\"action_type\"].value_counts(dropna=False, normalize=True).sort_index()\n",
    "count_F_hour11.plot(kind = \"bar\",color=\"c\", alpha=.4)\n",
    "\n",
    "plt.subplot(4,5,7)\n",
    "count_F_hour12 = data_F_hour12[\"action_type\"].value_counts(dropna=False, normalize=True).sort_index()\n",
    "count_F_hour12.plot(kind = \"bar\",color=\"c\", alpha=.4)\n",
    "\n",
    "plt.subplot(4,5,8)\n",
    "count_F_hour13 =data_F_hour13[\"action_type\"].value_counts(dropna=False, normalize=True).sort_index()\n",
    "count_F_hour13.plot(kind = \"bar\",color=\"c\", alpha=.4)\n",
    "\n",
    "plt.subplot(4,5,9)\n",
    "count_F_hour14 = data_F_hour14[\"action_type\"].value_counts(dropna=False, normalize=True).sort_index()\n",
    "count_F_hour14.plot(kind = \"bar\",color=\"c\", alpha=.4)\n",
    "\n",
    "plt.subplot(4,5,10)\n",
    "count_F_hour15= data_F_hour15[\"action_type\"].value_counts(dropna=False, normalize=True).sort_index()\n",
    "count_F_hour15.plot(kind = \"bar\",color=\"c\", alpha=.4)\n",
    "\n",
    "plt.subplot(4,5,11)\n",
    "count_F_hour16= data_F_hour16[\"action_type\"].value_counts(dropna=False, normalize=True).sort_index()\n",
    "count_F_hour16.plot(kind = \"bar\",color=\"c\", alpha=.4)\n",
    "\n",
    "plt.subplot(4,5,12)\n",
    "count_F_hour17 = data_F_hour17[\"action_type\"].value_counts(dropna=False, normalize=True).sort_index()\n",
    "count_F_hour17.plot(kind = \"bar\",color=\"c\", alpha=.4)\n",
    "\n",
    "plt.subplot(4,5,13)\n",
    "count_F_hour18 =data_F_hour18[\"action_type\"].value_counts(dropna=False, normalize=True).sort_index()\n",
    "count_F_hour18.plot(kind = \"bar\",color=\"c\", alpha=.4)\n",
    "\n",
    "plt.subplot(4,5,14)\n",
    "count_F_hour19 = data_F_hour19[\"action_type\"].value_counts(dropna=False, normalize=True).sort_index()\n",
    "count_F_hour19.plot(kind = \"bar\",color=\"c\", alpha=.4)\n",
    "\n",
    "plt.subplot(4,5,15)\n",
    "count_F_hour20= data_F_hour20[\"action_type\"].value_counts(dropna=False, normalize=True).sort_index()\n",
    "count_F_hour20.plot(kind = \"bar\",color=\"c\", alpha=.4)\n",
    "\n",
    "plt.subplot(4,5,16)\n",
    "count_F_hour21= data_F_hour21[\"action_type\"].value_counts(dropna=False, normalize=True).sort_index()\n",
    "count_F_hour21.plot(kind = \"bar\",color=\"c\", alpha=.4)\n",
    "\n",
    "plt.subplot(4,5,17)\n",
    "count_F_hour22 = data_F_hour22[\"action_type\"].value_counts(dropna=False, normalize=True).sort_index()\n",
    "count_F_hour22.plot(kind = \"bar\",color=\"c\", alpha=.4)\n",
    "\n",
    "plt.subplot(4,5,18)\n",
    "count_F_hour23 = data_F_hour23[\"action_type\"].value_counts(dropna=False, normalize=True).sort_index()\n",
    "count_F_hour23.plot(kind = \"bar\",color=\"c\", alpha=.4)"
   ]
  },
  {
   "cell_type": "markdown",
   "metadata": {},
   "source": [
    "#### event曜日ごとのaction_type=３ 比較（日曜日=0）"
   ]
  },
  {
   "cell_type": "code",
   "execution_count": 66,
   "metadata": {
    "collapsed": true
   },
   "outputs": [],
   "source": [
    "data_M_weekday0= data_M[data_M['event_weekday'] == 0]\n",
    "data_M_weekday1= data_M[data_M['event_weekday'] == 1]\n",
    "data_M_weekday2= data_M[data_M['event_weekday'] == 2]\n",
    "data_M_weekday3= data_M[data_M['event_weekday'] == 3]\n",
    "data_M_weekday4= data_M[data_M['event_weekday'] == 4]\n",
    "data_M_weekday5= data_M[data_M['event_weekday'] == 5]\n",
    "data_M_weekday6= data_M[data_M['event_weekday'] == 6]\n",
    "\n",
    "data_F_weekday0= data_F[data_F['event_weekday'] == 0]\n",
    "data_F_weekday1= data_F[data_F['event_weekday'] == 1]\n",
    "data_F_weekday2= data_F[data_F['event_weekday'] == 2]\n",
    "data_F_weekday3= data_F[data_F['event_weekday'] == 3]\n",
    "data_F_weekday4= data_F[data_F['event_weekday'] == 4]\n",
    "data_F_weekday5= data_F[data_F['event_weekday'] == 5]\n",
    "data_F_weekday6= data_F[data_F['event_weekday'] == 6]"
   ]
  },
  {
   "cell_type": "markdown",
   "metadata": {},
   "source": [
    "男性のイベント曜日ごとのaction_typeの影響"
   ]
  },
  {
   "cell_type": "code",
   "execution_count": 67,
   "metadata": {},
   "outputs": [
    {
     "data": {
      "text/plain": [
       "<matplotlib.axes._subplots.AxesSubplot at 0x1cf5f246e80>"
      ]
     },
     "execution_count": 67,
     "metadata": {},
     "output_type": "execute_result"
    },
    {
     "data": {
      "image/png": "[encoded data removed]",
      "text/plain": [
       "<matplotlib.figure.Figure at 0x1cf63ea44a8>"
      ]
     },
     "metadata": {},
     "output_type": "display_data"
    }
   ],
   "source": [
    "fig = plt.figure(figsize=(9,9)) # figureオブジェクト作成\n",
    "plt.subplot(3,3,1)\n",
    "count_weekday0 = data_M_weekday0[\"action_type\"].value_counts(dropna=False, normalize=True).sort_index()\n",
    "count_weekday0.plot(kind = \"bar\",color=\"c\", alpha=.4)\n",
    "\n",
    "plt.subplot(3,3,2)\n",
    "count_weekday1 = data_M_weekday1[\"action_type\"].value_counts(dropna=False, normalize=True).sort_index()\n",
    "count_weekday1.plot(kind = \"bar\",color=\"c\", alpha=.4)\n",
    "\n",
    "plt.subplot(3,3,3)\n",
    "count_weekday2 = data_M_weekday2[\"action_type\"].value_counts(dropna=False, normalize=True).sort_index()\n",
    "count_weekday2.plot(kind = \"bar\",color=\"c\", alpha=.4)\n",
    "\n",
    "plt.subplot(3,3,4)\n",
    "count_weekday3 = data_M_weekday3[\"action_type\"].value_counts(dropna=False, normalize=True).sort_index()\n",
    "count_weekday3.plot(kind = \"bar\",color=\"c\", alpha=.4)\n",
    "\n",
    "plt.subplot(3,3,5)\n",
    "count_weekday4 = data_M_weekday4[\"action_type\"].value_counts(dropna=False, normalize=True).sort_index()\n",
    "count_weekday4.plot(kind = \"bar\",color=\"c\", alpha=.4)\n",
    "\n",
    "plt.subplot(3,3,6)\n",
    "count_weekday5 = data_M_weekday5[\"action_type\"].value_counts(dropna=False, normalize=True).sort_index()\n",
    "count_weekday5.plot(kind = \"bar\",color=\"c\", alpha=.4)\n",
    "                  \n",
    "plt.subplot(3,3,7)\n",
    "count_weekday6 = data_M_weekday6[\"action_type\"].value_counts(dropna=False, normalize=True).sort_index()\n",
    "count_weekday6.plot(kind = \"bar\",color=\"c\", alpha=.4)"
   ]
  },
  {
   "cell_type": "markdown",
   "metadata": {},
   "source": [
    "女性のイベント曜日ごとのaction_typeの影響"
   ]
  },
  {
   "cell_type": "code",
   "execution_count": 68,
   "metadata": {},
   "outputs": [
    {
     "data": {
      "text/plain": [
       "<matplotlib.axes._subplots.AxesSubplot at 0x1cf63d9b0b8>"
      ]
     },
     "execution_count": 68,
     "metadata": {},
     "output_type": "execute_result"
    },
    {
     "data": {
      "image/png": "[encoded data removed]",
      "text/plain": [
       "<matplotlib.figure.Figure at 0x1cf638e5198>"
      ]
     },
     "metadata": {},
     "output_type": "display_data"
    }
   ],
   "source": [
    "fig = plt.figure(figsize=(9,9)) # figureオブジェクト作成\n",
    "plt.subplot(3,3,1)\n",
    "fcount_weekday0 = data_F_weekday0[\"action_type\"].value_counts(dropna=False, normalize=True).sort_index()\n",
    "fcount_weekday0.plot(kind = \"bar\",color=\"c\", alpha=.4)\n",
    "\n",
    "plt.subplot(3,3,2)\n",
    "fcount_weekday1 = data_F_weekday1[\"action_type\"].value_counts(dropna=False, normalize=True).sort_index()\n",
    "fcount_weekday1.plot(kind = \"bar\",color=\"c\", alpha=.4)\n",
    "\n",
    "plt.subplot(3,3,3)\n",
    "fcount_weekday2 = data_F_weekday2[\"action_type\"].value_counts(dropna=False, normalize=True).sort_index()\n",
    "fcount_weekday2.plot(kind = \"bar\",color=\"c\", alpha=.4)\n",
    "\n",
    "plt.subplot(3,3,4)\n",
    "fcount_weekday3 = data_F_weekday3[\"action_type\"].value_counts(dropna=False, normalize=True).sort_index()\n",
    "fcount_weekday3.plot(kind = \"bar\",color=\"c\", alpha=.4)\n",
    "\n",
    "plt.subplot(3,3,5)\n",
    "fcount_weekday4 = data_F_weekday4[\"action_type\"].value_counts(dropna=False, normalize=True).sort_index()\n",
    "fcount_weekday4.plot(kind = \"bar\",color=\"c\", alpha=.4)\n",
    "\n",
    "plt.subplot(3,3,6)\n",
    "fcount_weekday5 = data_F_weekday5[\"action_type\"].value_counts(dropna=False, normalize=True).sort_index()\n",
    "fcount_weekday5.plot(kind = \"bar\",color=\"c\", alpha=.4)\n",
    "                  \n",
    "plt.subplot(3,3,7)\n",
    "fcount_weekday6 = data_F_weekday6[\"action_type\"].value_counts(dropna=False, normalize=True).sort_index()\n",
    "fcount_weekday6.plot(kind = \"bar\",color=\"c\", alpha=.4)"
   ]
  },
  {
   "cell_type": "code",
   "execution_count": null,
   "metadata": {
    "collapsed": true
   },
   "outputs": [],
   "source": []
  },
  {
   "cell_type": "markdown",
   "metadata": {},
   "source": [
    "# ここまで作成"
   ]
  },
  {
   "cell_type": "markdown",
   "metadata": {},
   "source": [
    "# userとeventの地域の関係を調べる"
   ]
  },
  {
   "cell_type": "code",
   "execution_count": null,
   "metadata": {
    "collapsed": true
   },
   "outputs": [],
   "source": []
  },
  {
   "cell_type": "markdown",
   "metadata": {},
   "source": [
    "#### event地域ごとのaction_type=３ 比較"
   ]
  },
  {
   "cell_type": "markdown",
   "metadata": {},
   "source": [
    " [\"北海道\",\"青森県\",\"岩手県\",\"宮城県\",\"秋田県\", 5\n",
    "\"山形県\", \"福島県\", \"茨城県\",\"栃木県\",\"群馬県\", 10\n",
    "\"埼玉県\",\"千葉県\",\"東京都\",\"神奈川県\",\"新潟県\", 15\n",
    "\"富山県\",\"石川県\",\"福井県\",\"山梨県\",\"長野県\", 20\n",
    "\"岐阜県\",\"静岡県\",\"愛知県\",\"三重県\",\"滋賀県\", 25\n",
    "\"京都府\",\"大阪府\",\"兵庫県\",\"奈良県\",\"和歌山県\", 30\n",
    "\"鳥取県\",\"島根県\",\"岡山県\",\"広島県\",\"山口県\", 35\n",
    "\"徳島県\",\"香川県\",\"愛媛県\",\"高知県\",\"福岡県\", 40\n",
    "\"佐賀県\",\"長崎県\",\"熊本県\",\"大分県\",\"宮崎県\", 45\n",
    "  \"鹿児島県\",\"沖縄県\",'その他（海外等）']     48"
   ]
  },
  {
   "cell_type": "code",
   "execution_count": 40,
   "metadata": {
    "scrolled": false
   },
   "outputs": [
    {
     "data": {
      "text/plain": [
       "<matplotlib.legend.Legend at 0x20acd746e80>"
      ]
     },
     "execution_count": 40,
     "metadata": {},
     "output_type": "execute_result"
    },
    {
     "data": {
      "image/png": "[encoded data removed]",
      "text/plain": [
       "<matplotlib.figure.Figure at 0x20aa0364f60>"
      ]
     },
     "metadata": {},
     "output_type": "display_data"
    }
   ],
   "source": [
    "fig = plt.figure(figsize=(10,5)) # figureオブジェクト作成\n",
    "\n",
    "count_age3 = male3['event_prefecture'].value_counts(dropna=False, normalize=True).sort_index()\n",
    "count_age3.plot(kind = \"bar\",color=\"c\", alpha=.4)\n",
    "\n",
    "fcount_age3 = female3['event_prefecture'].value_counts(dropna=False, normalize=True).sort_index()\n",
    "fcount_age3.plot(kind = \"bar\",color=\"m\", alpha=.4)\n",
    "\n",
    "#Count_age3 = data3['event_prefecture'].value_counts(dropna=False, normalize=True).sort_index()\n",
    "#Count_age3.plot(kind = \"bar\",color=\"k\", alpha=.4)\n",
    "\n",
    "plt.legend([\"male\",\"female\",\"all\"]) # 凡例を表示"
   ]
  },
  {
   "cell_type": "markdown",
   "metadata": {},
   "source": [
    "LAbelEncorderの順番付けが謎　東京:27　10:大阪　25:愛知 33:神奈川　35:福岡 19:岡山 22:広島 2:京都　4:兵庫　5:北海道 6:千葉 8:埼玉　"
   ]
  },
  {
   "cell_type": "markdown",
   "metadata": {},
   "source": [
    "#### user地域とevent地域の散布図　action_type=3"
   ]
  },
  {
   "cell_type": "code",
   "execution_count": 48,
   "metadata": {},
   "outputs": [
    {
     "data": {
      "text/html": [
       "<div>\n",
       "<style>\n",
       "    .dataframe thead tr:only-child th {\n",
       "        text-align: right;\n",
       "    }\n",
       "\n",
       "    .dataframe thead th {\n",
       "        text-align: left;\n",
       "    }\n",
       "\n",
       "    .dataframe tbody tr th {\n",
       "        vertical-align: top;\n",
       "    }\n",
       "</style>\n",
       "<table border=\"1\" class=\"dataframe\">\n",
       "  <thead>\n",
       "    <tr style=\"text-align: right;\">\n",
       "      <th></th>\n",
       "      <th>event_prefecture</th>\n",
       "      <th>user_prefecture</th>\n",
       "    </tr>\n",
       "  </thead>\n",
       "  <tbody>\n",
       "    <tr>\n",
       "      <th>0</th>\n",
       "      <td>27</td>\n",
       "      <td>43</td>\n",
       "    </tr>\n",
       "    <tr>\n",
       "      <th>1279</th>\n",
       "      <td>8</td>\n",
       "      <td>43</td>\n",
       "    </tr>\n",
       "    <tr>\n",
       "      <th>1280</th>\n",
       "      <td>8</td>\n",
       "      <td>43</td>\n",
       "    </tr>\n",
       "    <tr>\n",
       "      <th>1281</th>\n",
       "      <td>8</td>\n",
       "      <td>43</td>\n",
       "    </tr>\n",
       "    <tr>\n",
       "      <th>1282</th>\n",
       "      <td>8</td>\n",
       "      <td>43</td>\n",
       "    </tr>\n",
       "  </tbody>\n",
       "</table>\n",
       "</div>"
      ],
      "text/plain": [
       "      event_prefecture  user_prefecture\n",
       "0                   27               43\n",
       "1279                 8               43\n",
       "1280                 8               43\n",
       "1281                 8               43\n",
       "1282                 8               43"
      ]
     },
     "execution_count": 48,
     "metadata": {},
     "output_type": "execute_result"
    }
   ],
   "source": [
    "scatter_data3 = data3.loc[:,['event_prefecture','user_prefecture']]\n",
    "scatter_data3.head()"
   ]
  },
  {
   "cell_type": "code",
   "execution_count": 171,
   "metadata": {
    "scrolled": true
   },
   "outputs": [
    {
     "data": {
      "text/plain": [
       "<matplotlib.legend.Legend at 0x20b553f2320>"
      ]
     },
     "execution_count": 171,
     "metadata": {},
     "output_type": "execute_result"
    },
    {
     "data": {
      "image/png": "[encoded data removed]",
      "text/plain": [
       "<matplotlib.figure.Figure at 0x20b55455ba8>"
      ]
     },
     "metadata": {},
     "output_type": "display_data"
    }
   ],
   "source": [
    "fig = plt.figure(figsize=(10,10)) # figureオブジェクト作成\n",
    "count_epre = scatter_data3['event_prefecture']\n",
    "count_epre.plot(kind = \"kde\",color=\"c\", alpha=.4)\n",
    "\n",
    "count_upre = scatter_data3['user_prefecture']\n",
    "count_upre.plot(kind = \"kde\",color=\"m\", alpha=.4)\n",
    "\n",
    "plt.xlim(0,48)\n",
    "plt.legend([\"epre\",\"upre\"]) # 凡例を表示"
   ]
  },
  {
   "cell_type": "code",
   "execution_count": 63,
   "metadata": {},
   "outputs": [
    {
     "data": {
      "text/plain": [
       "<matplotlib.axes._subplots.AxesSubplot at 0x20abe022d30>"
      ]
     },
     "execution_count": 63,
     "metadata": {},
     "output_type": "execute_result"
    },
    {
     "data": {
      "text/plain": [
       "<matplotlib.figure.Figure at 0x20af749e4a8>"
      ]
     },
     "metadata": {},
     "output_type": "display_data"
    },
    {
     "data": {
      "image/png": "[encoded data removed]",
      "text/plain": [
       "<matplotlib.figure.Figure at 0x20abe007198>"
      ]
     },
     "metadata": {},
     "output_type": "display_data"
    }
   ],
   "source": [
    "fig = plt.figure(figsize=(20,20)) # figureオブジェクト作成\n",
    "scatter_data3.plot.scatter(x=\"event_prefecture\",y=\"user_prefecture\",alpha=.4)"
   ]
  },
  {
   "cell_type": "code",
   "execution_count": null,
   "metadata": {
    "collapsed": true
   },
   "outputs": [],
   "source": []
  }
 ],
 "metadata": {
  "kernelspec": {
   "display_name": "Python 3",
   "language": "python",
   "name": "python3"
  },
  "language_info": {
   "codemirror_mode": {
    "name": "ipython",
    "version": 3
   },
   "file_extension": ".py",
   "mimetype": "text/x-python",
   "name": "python",
   "nbconvert_exporter": "python",
   "pygments_lexer": "ipython3",
   "version": "3.6.5"
  }
 },
 "nbformat": 4,
 "nbformat_minor": 2
}
