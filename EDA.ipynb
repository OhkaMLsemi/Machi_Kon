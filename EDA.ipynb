{
 "cells": [
  {
   "cell_type": "code",
   "execution_count": 1,
   "metadata": {
    "scrolled": true
   },
   "outputs": [
    {
     "name": "stderr",
     "output_type": "stream",
     "text": [
      "-- Attaching packages --------------------------------------- tidyverse 1.2.1 --\n",
      "√ ggplot2 2.2.1     √ purrr   0.2.4\n",
      "√ tibble  1.4.2     √ dplyr   0.7.4\n",
      "√ tidyr   0.7.2     √ stringr 1.2.0\n",
      "√ readr   1.1.1     √ forcats 0.2.0\n",
      "-- Conflicts ------------------------------------------ tidyverse_conflicts() --\n",
      "x dplyr::filter() masks stats::filter()\n",
      "x dplyr::lag()    masks stats::lag()\n",
      "\n",
      "Attaching package: 'lubridate'\n",
      "\n",
      "The following object is masked from 'package:base':\n",
      "\n",
      "    date\n",
      "\n"
     ]
    }
   ],
   "source": [
    "library(\"tidyverse\")\n",
    "library(\"lubridate\")\n",
    "library(\"ggplot2\")\n",
    "library(\"forcats\")"
   ]
  },
  {
   "cell_type": "code",
   "execution_count": 2,
   "metadata": {},
   "outputs": [
    {
     "name": "stderr",
     "output_type": "stream",
     "text": [
      "Parsed with column specification:\n",
      "cols(\n",
      "  event_id = col_integer(),\n",
      "  female_age_lower = col_integer(),\n",
      "  female_age_upper = col_double(),\n",
      "  male_age_lower = col_integer(),\n",
      "  male_age_upper = col_double(),\n",
      "  event_start_at = col_datetime(format = \"\"),\n",
      "  prefecture = col_character(),\n",
      "  first_published_at = col_character(),\n",
      "  female_price = col_double(),\n",
      "  male_price = col_double(),\n",
      "  interest = col_character()\n",
      ")\n",
      "Parsed with column specification:\n",
      "cols(\n",
      "  user_id = col_integer(),\n",
      "  age = col_integer(),\n",
      "  gender = col_character(),\n",
      "  prefecture = col_character(),\n",
      "  created_on = col_date(format = \"\")\n",
      ")\n"
     ]
    }
   ],
   "source": [
    "log <- read_tsv('data/log.tsv', col_types = cols(action_type= col_factor(c(\"1\",\"2\",\"3\"))))\n",
    "events <- read_tsv('data/events.tsv')\n",
    "users <- read_tsv('data/users.tsv')"
   ]
  },
  {
   "cell_type": "code",
   "execution_count": 3,
   "metadata": {},
   "outputs": [
    {
     "data": {
      "text/html": [
       "<table>\n",
       "<thead><tr><th scope=col>user_id</th><th scope=col>event_id</th><th scope=col>time_stamp</th><th scope=col>action_type</th><th scope=col>num_of_people</th><th scope=col>payment_method</th><th scope=col>total_price</th></tr></thead>\n",
       "<tbody>\n",
       "\t<tr><td>1                  </td><td>  6261             </td><td>2015-03-19 09:15:50</td><td>3                  </td><td> 1                 </td><td>クレカ             </td><td>4000               </td></tr>\n",
       "\t<tr><td>1                  </td><td>127600             </td><td>2017-06-05 12:33:17</td><td>1                  </td><td>NA                 </td><td>NA                 </td><td>  NA               </td></tr>\n",
       "\t<tr><td>1                  </td><td>127600             </td><td>2017-06-05 12:37:09</td><td>1                  </td><td>NA                 </td><td>NA                 </td><td>  NA               </td></tr>\n",
       "\t<tr><td>1                  </td><td>125296             </td><td>2017-06-06 14:01:27</td><td>1                  </td><td>NA                 </td><td>NA                 </td><td>  NA               </td></tr>\n",
       "\t<tr><td>1                  </td><td>125128             </td><td>2017-06-06 14:03:57</td><td>1                  </td><td>NA                 </td><td>NA                 </td><td>  NA               </td></tr>\n",
       "</tbody>\n",
       "</table>\n"
      ],
      "text/latex": [
       "\\begin{tabular}{r|lllllll}\n",
       " user\\_id & event\\_id & time\\_stamp & action\\_type & num\\_of\\_people & payment\\_method & total\\_price\\\\\n",
       "\\hline\n",
       "\t 1                   &   6261              & 2015-03-19 09:15:50 & 3                   &  1                  & クレカ              & 4000               \\\\\n",
       "\t 1                   & 127600              & 2017-06-05 12:33:17 & 1                   & NA                  & NA                  &   NA               \\\\\n",
       "\t 1                   & 127600              & 2017-06-05 12:37:09 & 1                   & NA                  & NA                  &   NA               \\\\\n",
       "\t 1                   & 125296              & 2017-06-06 14:01:27 & 1                   & NA                  & NA                  &   NA               \\\\\n",
       "\t 1                   & 125128              & 2017-06-06 14:03:57 & 1                   & NA                  & NA                  &   NA               \\\\\n",
       "\\end{tabular}\n"
      ],
      "text/markdown": [
       "\n",
       "user_id | event_id | time_stamp | action_type | num_of_people | payment_method | total_price | \n",
       "|---|---|---|---|---|\n",
       "| 1                   |   6261              | 2015-03-19 09:15:50 | 3                   |  1                  | クレカ              | 4000                | \n",
       "| 1                   | 127600              | 2017-06-05 12:33:17 | 1                   | NA                  | NA                  |   NA                | \n",
       "| 1                   | 127600              | 2017-06-05 12:37:09 | 1                   | NA                  | NA                  |   NA                | \n",
       "| 1                   | 125296              | 2017-06-06 14:01:27 | 1                   | NA                  | NA                  |   NA                | \n",
       "| 1                   | 125128              | 2017-06-06 14:03:57 | 1                   | NA                  | NA                  |   NA                | \n",
       "\n",
       "\n"
      ],
      "text/plain": [
       "  user_id event_id time_stamp          action_type num_of_people payment_method\n",
       "1 1         6261   2015-03-19 09:15:50 3            1            クレカ        \n",
       "2 1       127600   2017-06-05 12:33:17 1           NA            NA            \n",
       "3 1       127600   2017-06-05 12:37:09 1           NA            NA            \n",
       "4 1       125296   2017-06-06 14:01:27 1           NA            NA            \n",
       "5 1       125128   2017-06-06 14:03:57 1           NA            NA            \n",
       "  total_price\n",
       "1 4000       \n",
       "2   NA       \n",
       "3   NA       \n",
       "4   NA       \n",
       "5   NA       "
      ]
     },
     "metadata": {},
     "output_type": "display_data"
    },
    {
     "data": {
      "text/html": [
       "<table>\n",
       "<thead><tr><th scope=col>event_id</th><th scope=col>female_age_lower</th><th scope=col>female_age_upper</th><th scope=col>male_age_lower</th><th scope=col>male_age_upper</th><th scope=col>event_start_at</th><th scope=col>prefecture</th><th scope=col>first_published_at</th><th scope=col>female_price</th><th scope=col>male_price</th><th scope=col>interest</th></tr></thead>\n",
       "<tbody>\n",
       "\t<tr><td>1                  </td><td>20                 </td><td>99                 </td><td>25                 </td><td>44                 </td><td>2015-03-08 18:00:00</td><td>宮城県             </td><td>NA                 </td><td>1500               </td><td>5000               </td><td>NA                 </td></tr>\n",
       "\t<tr><td>2                  </td><td>30                 </td><td>99                 </td><td>30                 </td><td>49                 </td><td>2015-03-01 15:00:00</td><td>富山県             </td><td>NA                 </td><td>1000               </td><td>6500               </td><td>NA                 </td></tr>\n",
       "\t<tr><td>3                  </td><td>22                 </td><td>99                 </td><td>24                 </td><td>39                 </td><td>2015-03-07 19:00:00</td><td>富山県             </td><td>NA                 </td><td>1000               </td><td>6000               </td><td>NA                 </td></tr>\n",
       "\t<tr><td>4                  </td><td>20                 </td><td>99                 </td><td>25                 </td><td>44                 </td><td>2015-03-08 18:00:00</td><td>新潟県             </td><td>NA                 </td><td>1000               </td><td>6000               </td><td>NA                 </td></tr>\n",
       "\t<tr><td>5                  </td><td>20                 </td><td>99                 </td><td>20                 </td><td>39                 </td><td>2015-03-14 19:00:00</td><td>新潟県             </td><td>NA                 </td><td>1000               </td><td>6000               </td><td>NA                 </td></tr>\n",
       "</tbody>\n",
       "</table>\n"
      ],
      "text/latex": [
       "\\begin{tabular}{r|lllllllllll}\n",
       " event\\_id & female\\_age\\_lower & female\\_age\\_upper & male\\_age\\_lower & male\\_age\\_upper & event\\_start\\_at & prefecture & first\\_published\\_at & female\\_price & male\\_price & interest\\\\\n",
       "\\hline\n",
       "\t 1                   & 20                  & 99                  & 25                  & 44                  & 2015-03-08 18:00:00 & 宮城県              & NA                  & 1500                & 5000                & NA                 \\\\\n",
       "\t 2                   & 30                  & 99                  & 30                  & 49                  & 2015-03-01 15:00:00 & 富山県              & NA                  & 1000                & 6500                & NA                 \\\\\n",
       "\t 3                   & 22                  & 99                  & 24                  & 39                  & 2015-03-07 19:00:00 & 富山県              & NA                  & 1000                & 6000                & NA                 \\\\\n",
       "\t 4                   & 20                  & 99                  & 25                  & 44                  & 2015-03-08 18:00:00 & 新潟県              & NA                  & 1000                & 6000                & NA                 \\\\\n",
       "\t 5                   & 20                  & 99                  & 20                  & 39                  & 2015-03-14 19:00:00 & 新潟県              & NA                  & 1000                & 6000                & NA                 \\\\\n",
       "\\end{tabular}\n"
      ],
      "text/markdown": [
       "\n",
       "event_id | female_age_lower | female_age_upper | male_age_lower | male_age_upper | event_start_at | prefecture | first_published_at | female_price | male_price | interest | \n",
       "|---|---|---|---|---|\n",
       "| 1                   | 20                  | 99                  | 25                  | 44                  | 2015-03-08 18:00:00 | 宮城県              | NA                  | 1500                | 5000                | NA                  | \n",
       "| 2                   | 30                  | 99                  | 30                  | 49                  | 2015-03-01 15:00:00 | 富山県              | NA                  | 1000                | 6500                | NA                  | \n",
       "| 3                   | 22                  | 99                  | 24                  | 39                  | 2015-03-07 19:00:00 | 富山県              | NA                  | 1000                | 6000                | NA                  | \n",
       "| 4                   | 20                  | 99                  | 25                  | 44                  | 2015-03-08 18:00:00 | 新潟県              | NA                  | 1000                | 6000                | NA                  | \n",
       "| 5                   | 20                  | 99                  | 20                  | 39                  | 2015-03-14 19:00:00 | 新潟県              | NA                  | 1000                | 6000                | NA                  | \n",
       "\n",
       "\n"
      ],
      "text/plain": [
       "  event_id female_age_lower female_age_upper male_age_lower male_age_upper\n",
       "1 1        20               99               25             44            \n",
       "2 2        30               99               30             49            \n",
       "3 3        22               99               24             39            \n",
       "4 4        20               99               25             44            \n",
       "5 5        20               99               20             39            \n",
       "  event_start_at      prefecture first_published_at female_price male_price\n",
       "1 2015-03-08 18:00:00 宮城県     NA                 1500         5000      \n",
       "2 2015-03-01 15:00:00 富山県     NA                 1000         6500      \n",
       "3 2015-03-07 19:00:00 富山県     NA                 1000         6000      \n",
       "4 2015-03-08 18:00:00 新潟県     NA                 1000         6000      \n",
       "5 2015-03-14 19:00:00 新潟県     NA                 1000         6000      \n",
       "  interest\n",
       "1 NA      \n",
       "2 NA      \n",
       "3 NA      \n",
       "4 NA      \n",
       "5 NA      "
      ]
     },
     "metadata": {},
     "output_type": "display_data"
    },
    {
     "data": {
      "text/html": [
       "<table>\n",
       "<thead><tr><th scope=col>user_id</th><th scope=col>age</th><th scope=col>gender</th><th scope=col>prefecture</th><th scope=col>created_on</th></tr></thead>\n",
       "<tbody>\n",
       "\t<tr><td>1         </td><td>34        </td><td>女性      </td><td>静岡県    </td><td>2012-06-26</td></tr>\n",
       "\t<tr><td>2         </td><td>31        </td><td>男性      </td><td>鳥取県    </td><td>2012-07-12</td></tr>\n",
       "\t<tr><td>3         </td><td>32        </td><td>男性      </td><td>東京都    </td><td>2012-07-15</td></tr>\n",
       "\t<tr><td>4         </td><td>30        </td><td>男性      </td><td>東京都    </td><td>2012-07-17</td></tr>\n",
       "\t<tr><td>5         </td><td>29        </td><td>女性      </td><td>埼玉県    </td><td>2012-07-17</td></tr>\n",
       "</tbody>\n",
       "</table>\n"
      ],
      "text/latex": [
       "\\begin{tabular}{r|lllll}\n",
       " user\\_id & age & gender & prefecture & created\\_on\\\\\n",
       "\\hline\n",
       "\t 1          & 34         & 女性       & 静岡県     & 2012-06-26\\\\\n",
       "\t 2          & 31         & 男性       & 鳥取県     & 2012-07-12\\\\\n",
       "\t 3          & 32         & 男性       & 東京都     & 2012-07-15\\\\\n",
       "\t 4          & 30         & 男性       & 東京都     & 2012-07-17\\\\\n",
       "\t 5          & 29         & 女性       & 埼玉県     & 2012-07-17\\\\\n",
       "\\end{tabular}\n"
      ],
      "text/markdown": [
       "\n",
       "user_id | age | gender | prefecture | created_on | \n",
       "|---|---|---|---|---|\n",
       "| 1          | 34         | 女性       | 静岡県     | 2012-06-26 | \n",
       "| 2          | 31         | 男性       | 鳥取県     | 2012-07-12 | \n",
       "| 3          | 32         | 男性       | 東京都     | 2012-07-15 | \n",
       "| 4          | 30         | 男性       | 東京都     | 2012-07-17 | \n",
       "| 5          | 29         | 女性       | 埼玉県     | 2012-07-17 | \n",
       "\n",
       "\n"
      ],
      "text/plain": [
       "  user_id age gender prefecture created_on\n",
       "1 1       34  女性   静岡県     2012-06-26\n",
       "2 2       31  男性   鳥取県     2012-07-12\n",
       "3 3       32  男性   東京都     2012-07-15\n",
       "4 4       30  男性   東京都     2012-07-17\n",
       "5 5       29  女性   埼玉県     2012-07-17"
      ]
     },
     "metadata": {},
     "output_type": "display_data"
    }
   ],
   "source": [
    "head(log,5)\n",
    "head(events,5)\n",
    "head(users,5)"
   ]
  },
  {
   "cell_type": "code",
   "execution_count": 4,
   "metadata": {},
   "outputs": [
    {
     "data": {
      "text/html": [
       "<table>\n",
       "<thead><tr><th scope=col>user_id</th><th scope=col>event_id</th><th scope=col>time_stamp</th><th scope=col>action_type</th><th scope=col>num_of_people</th><th scope=col>payment_method</th><th scope=col>total_price</th><th scope=col>year</th><th scope=col>month</th><th scope=col>day</th><th scope=col>hour</th></tr></thead>\n",
       "<tbody>\n",
       "\t<tr><td>1                  </td><td>  6261             </td><td>2015-03-19 09:15:50</td><td>3                  </td><td> 1                 </td><td>クレカ             </td><td>4000               </td><td>2015               </td><td>3                  </td><td>19                 </td><td> 9                 </td></tr>\n",
       "\t<tr><td>1                  </td><td>127600             </td><td>2017-06-05 12:33:17</td><td>1                  </td><td>NA                 </td><td>NA                 </td><td>  NA               </td><td>2017               </td><td>6                  </td><td> 5                 </td><td>12                 </td></tr>\n",
       "\t<tr><td>1                  </td><td>127600             </td><td>2017-06-05 12:37:09</td><td>1                  </td><td>NA                 </td><td>NA                 </td><td>  NA               </td><td>2017               </td><td>6                  </td><td> 5                 </td><td>12                 </td></tr>\n",
       "\t<tr><td>1                  </td><td>125296             </td><td>2017-06-06 14:01:27</td><td>1                  </td><td>NA                 </td><td>NA                 </td><td>  NA               </td><td>2017               </td><td>6                  </td><td> 6                 </td><td>14                 </td></tr>\n",
       "\t<tr><td>1                  </td><td>125128             </td><td>2017-06-06 14:03:57</td><td>1                  </td><td>NA                 </td><td>NA                 </td><td>  NA               </td><td>2017               </td><td>6                  </td><td> 6                 </td><td>14                 </td></tr>\n",
       "</tbody>\n",
       "</table>\n"
      ],
      "text/latex": [
       "\\begin{tabular}{r|lllllllllll}\n",
       " user\\_id & event\\_id & time\\_stamp & action\\_type & num\\_of\\_people & payment\\_method & total\\_price & year & month & day & hour\\\\\n",
       "\\hline\n",
       "\t 1                   &   6261              & 2015-03-19 09:15:50 & 3                   &  1                  & クレカ              & 4000                & 2015                & 3                   & 19                  &  9                 \\\\\n",
       "\t 1                   & 127600              & 2017-06-05 12:33:17 & 1                   & NA                  & NA                  &   NA                & 2017                & 6                   &  5                  & 12                 \\\\\n",
       "\t 1                   & 127600              & 2017-06-05 12:37:09 & 1                   & NA                  & NA                  &   NA                & 2017                & 6                   &  5                  & 12                 \\\\\n",
       "\t 1                   & 125296              & 2017-06-06 14:01:27 & 1                   & NA                  & NA                  &   NA                & 2017                & 6                   &  6                  & 14                 \\\\\n",
       "\t 1                   & 125128              & 2017-06-06 14:03:57 & 1                   & NA                  & NA                  &   NA                & 2017                & 6                   &  6                  & 14                 \\\\\n",
       "\\end{tabular}\n"
      ],
      "text/markdown": [
       "\n",
       "user_id | event_id | time_stamp | action_type | num_of_people | payment_method | total_price | year | month | day | hour | \n",
       "|---|---|---|---|---|\n",
       "| 1                   |   6261              | 2015-03-19 09:15:50 | 3                   |  1                  | クレカ              | 4000                | 2015                | 3                   | 19                  |  9                  | \n",
       "| 1                   | 127600              | 2017-06-05 12:33:17 | 1                   | NA                  | NA                  |   NA                | 2017                | 6                   |  5                  | 12                  | \n",
       "| 1                   | 127600              | 2017-06-05 12:37:09 | 1                   | NA                  | NA                  |   NA                | 2017                | 6                   |  5                  | 12                  | \n",
       "| 1                   | 125296              | 2017-06-06 14:01:27 | 1                   | NA                  | NA                  |   NA                | 2017                | 6                   |  6                  | 14                  | \n",
       "| 1                   | 125128              | 2017-06-06 14:03:57 | 1                   | NA                  | NA                  |   NA                | 2017                | 6                   |  6                  | 14                  | \n",
       "\n",
       "\n"
      ],
      "text/plain": [
       "  user_id event_id time_stamp          action_type num_of_people payment_method\n",
       "1 1         6261   2015-03-19 09:15:50 3            1            クレカ        \n",
       "2 1       127600   2017-06-05 12:33:17 1           NA            NA            \n",
       "3 1       127600   2017-06-05 12:37:09 1           NA            NA            \n",
       "4 1       125296   2017-06-06 14:01:27 1           NA            NA            \n",
       "5 1       125128   2017-06-06 14:03:57 1           NA            NA            \n",
       "  total_price year month day hour\n",
       "1 4000        2015 3     19   9  \n",
       "2   NA        2017 6      5  12  \n",
       "3   NA        2017 6      5  12  \n",
       "4   NA        2017 6      6  14  \n",
       "5   NA        2017 6      6  14  "
      ]
     },
     "metadata": {},
     "output_type": "display_data"
    }
   ],
   "source": [
    "log <- log %>% \n",
    "    mutate(year = year(time_stamp)) %>% \n",
    "    mutate(month= month(time_stamp)) %>% \n",
    "    mutate(day = day(time_stamp)) %>% \n",
    "    mutate(hour = hour(time_stamp))\n",
    "head(log,5)"
   ]
  },
  {
   "cell_type": "code",
   "execution_count": 5,
   "metadata": {},
   "outputs": [
    {
     "data": {
      "text/plain": [
       "    user_id         event_id        time_stamp                  action_type\n",
       " Min.   :    1   Min.   :     1   Min.   :2014-11-20 22:18:16   1:843212   \n",
       " 1st Qu.:12739   1st Qu.:102591   1st Qu.:2017-03-26 13:22:59   2:354822   \n",
       " Median :26810   Median :119801   Median :2017-05-27 22:41:34   3:254055   \n",
       " Mean   :31749   Mean   :114832   Mean   :2017-04-26 22:20:40              \n",
       " 3rd Qu.:51836   3rd Qu.:138939   3rd Qu.:2017-07-23 21:28:05              \n",
       " Max.   :70000   Max.   :158392   Max.   :2017-09-23 21:59:43              \n",
       "                                                                           \n",
       " num_of_people     payment_method      total_price           year     \n",
       " Min.   :0.0       Length:1452089     Min.   :    0     Min.   :2014  \n",
       " 1st Qu.:1.0       Class :character   1st Qu.: 4000     1st Qu.:2017  \n",
       " Median :1.0       Mode  :character   Median : 6000     Median :2017  \n",
       " Mean   :1.4                          Mean   : 6809     Mean   :2017  \n",
       " 3rd Qu.:2.0                          3rd Qu.: 8000     3rd Qu.:2017  \n",
       " Max.   :9.0                          Max.   :63000     Max.   :2017  \n",
       " NA's   :1198034                      NA's   :1198034                 \n",
       "     month             day            hour      \n",
       " Min.   : 1.000   Min.   : 1.0   Min.   : 0.00  \n",
       " 1st Qu.: 5.000   1st Qu.: 8.0   1st Qu.: 9.00  \n",
       " Median : 6.000   Median :16.0   Median :14.00  \n",
       " Mean   : 6.238   Mean   :15.4   Mean   :13.36  \n",
       " 3rd Qu.: 8.000   3rd Qu.:22.0   3rd Qu.:19.00  \n",
       " Max.   :12.000   Max.   :31.0   Max.   :23.00  \n",
       "                                                "
      ]
     },
     "metadata": {},
     "output_type": "display_data"
    }
   ],
   "source": [
    "summary(log)"
   ]
  },
  {
   "cell_type": "code",
   "execution_count": 6,
   "metadata": {},
   "outputs": [
    {
     "data": {
      "text/html": [
       "<table>\n",
       "<thead><tr><th scope=col>action_type</th><th scope=col>n</th></tr></thead>\n",
       "<tbody>\n",
       "\t<tr><td>1     </td><td>843212</td></tr>\n",
       "\t<tr><td>2     </td><td>354822</td></tr>\n",
       "\t<tr><td>3     </td><td>254055</td></tr>\n",
       "</tbody>\n",
       "</table>\n"
      ],
      "text/latex": [
       "\\begin{tabular}{r|ll}\n",
       " action\\_type & n\\\\\n",
       "\\hline\n",
       "\t 1      & 843212\\\\\n",
       "\t 2      & 354822\\\\\n",
       "\t 3      & 254055\\\\\n",
       "\\end{tabular}\n"
      ],
      "text/markdown": [
       "\n",
       "action_type | n | \n",
       "|---|---|---|\n",
       "| 1      | 843212 | \n",
       "| 2      | 354822 | \n",
       "| 3      | 254055 | \n",
       "\n",
       "\n"
      ],
      "text/plain": [
       "  action_type n     \n",
       "1 1           843212\n",
       "2 2           354822\n",
       "3 3           254055"
      ]
     },
     "metadata": {},
     "output_type": "display_data"
    }
   ],
   "source": [
    "log %>%\n",
    "    group_by(action_type) %>%\n",
    "    count()"
   ]
  },
  {
   "cell_type": "code",
   "execution_count": 7,
   "metadata": {},
   "outputs": [
    {
     "data": {
      "text/html": [
       "<table>\n",
       "<thead><tr><th scope=col>interest</th><th scope=col>n</th></tr></thead>\n",
       "<tbody>\n",
       "\t<tr><td>アニメコン                          </td><td>   977                              </td></tr>\n",
       "\t<tr><td>サバコン                            </td><td>   185                              </td></tr>\n",
       "\t<tr><td>スポーツコン                        </td><td>  1100                              </td></tr>\n",
       "\t<tr><td>その他                              </td><td> 11182                              </td></tr>\n",
       "\t<tr><td>その他（スポーツコン）              </td><td>   745                              </td></tr>\n",
       "\t<tr><td>テニスコン                          </td><td>   222                              </td></tr>\n",
       "\t<tr><td>フットサルコン                      </td><td>   602                              </td></tr>\n",
       "\t<tr><td>ボルダリングコン                    </td><td>   420                              </td></tr>\n",
       "\t<tr><td>婚活バスツアー（お見合いバスツアー）</td><td>    59                              </td></tr>\n",
       "\t<tr><td>釣りコン                            </td><td>     5                              </td></tr>\n",
       "\t<tr><td>謎解きコン                          </td><td>   769                              </td></tr>\n",
       "\t<tr><td>旅コン                              </td><td>   159                              </td></tr>\n",
       "\t<tr><td>料理合コン（料理コン）              </td><td>   658                              </td></tr>\n",
       "\t<tr><td>NA                                  </td><td>141309                              </td></tr>\n",
       "</tbody>\n",
       "</table>\n"
      ],
      "text/latex": [
       "\\begin{tabular}{r|ll}\n",
       " interest & n\\\\\n",
       "\\hline\n",
       "\t アニメコン                           &    977                              \\\\\n",
       "\t サバコン                             &    185                              \\\\\n",
       "\t スポーツコン                         &   1100                              \\\\\n",
       "\t その他                               &  11182                              \\\\\n",
       "\t その他（スポーツコン）               &    745                              \\\\\n",
       "\t テニスコン                           &    222                              \\\\\n",
       "\t フットサルコン                       &    602                              \\\\\n",
       "\t ボルダリングコン                     &    420                              \\\\\n",
       "\t 婚活バスツアー（お見合いバスツアー） &     59                              \\\\\n",
       "\t 釣りコン                             &      5                              \\\\\n",
       "\t 謎解きコン                           &    769                              \\\\\n",
       "\t 旅コン                               &    159                              \\\\\n",
       "\t 料理合コン（料理コン）               &    658                              \\\\\n",
       "\t NA                                   & 141309                              \\\\\n",
       "\\end{tabular}\n"
      ],
      "text/markdown": [
       "\n",
       "interest | n | \n",
       "|---|---|---|---|---|---|---|---|---|---|---|---|---|---|\n",
       "| アニメコン                           |    977                               | \n",
       "| サバコン                             |    185                               | \n",
       "| スポーツコン                         |   1100                               | \n",
       "| その他                               |  11182                               | \n",
       "| その他（スポーツコン）               |    745                               | \n",
       "| テニスコン                           |    222                               | \n",
       "| フットサルコン                       |    602                               | \n",
       "| ボルダリングコン                     |    420                               | \n",
       "| 婚活バスツアー（お見合いバスツアー） |     59                               | \n",
       "| 釣りコン                             |      5                               | \n",
       "| 謎解きコン                           |    769                               | \n",
       "| 旅コン                               |    159                               | \n",
       "| 料理合コン（料理コン）               |    658                               | \n",
       "| NA                                   | 141309                               | \n",
       "\n",
       "\n"
      ],
      "text/plain": [
       "   interest                             n     \n",
       "1  アニメコン                              977\n",
       "2  サバコン                                185\n",
       "3  スポーツコン                           1100\n",
       "4  その他                                11182\n",
       "5  その他（スポーツコン）                  745\n",
       "6  テニスコン                              222\n",
       "7  フットサルコン                          602\n",
       "8  ボルダリングコン                        420\n",
       "9  婚活バスツアー（お見合いバスツアー）     59\n",
       "10 釣りコン                                  5\n",
       "11 謎解きコン                              769\n",
       "12 旅コン                                  159\n",
       "13 料理合コン（料理コン）                  658\n",
       "14 NA                                   141309"
      ]
     },
     "metadata": {},
     "output_type": "display_data"
    }
   ],
   "source": [
    "events %>%\n",
    "    group_by(interest) %>%\n",
    "    count()"
   ]
  },
  {
   "cell_type": "code",
   "execution_count": 8,
   "metadata": {},
   "outputs": [],
   "source": [
    "nested_log <- log %>%\n",
    "    group_by(action_type) %>%\n",
    "    nest()"
   ]
  },
  {
   "cell_type": "code",
   "execution_count": 9,
   "metadata": {},
   "outputs": [
    {
     "data": {},
     "metadata": {},
     "output_type": "display_data"
    },
    {
     "data": {
      "image/png": "[encoded data removed]",
      "text/plain": [
       "plot without title"
      ]
     },
     "metadata": {},
     "output_type": "display_data"
    }
   ],
   "source": [
    "log %>%\n",
    "    ggplot(aes(time_stamp)) +\n",
    "    geom_freqpoly(binwidth = 86400)"
   ]
  },
  {
   "cell_type": "code",
   "execution_count": 10,
   "metadata": {},
   "outputs": [
    {
     "data": {},
     "metadata": {},
     "output_type": "display_data"
    },
    {
     "data": {
      "image/png": "[encoded data removed]",
      "text/plain": [
       "plot without title"
      ]
     },
     "metadata": {},
     "output_type": "display_data"
    }
   ],
   "source": [
    "log %>%\n",
    "    ggplot(aes(x = time_stamp, colour= action_type)) +\n",
    "    geom_freqpoly(binwidth = 86400)"
   ]
  },
  {
   "cell_type": "code",
   "execution_count": null,
   "metadata": {},
   "outputs": [],
   "source": []
  }
 ],
 "metadata": {
  "kernelspec": {
   "display_name": "R",
   "language": "R",
   "name": "ir"
  },
  "language_info": {
   "codemirror_mode": "r",
   "file_extension": ".r",
   "mimetype": "text/x-r-source",
   "name": "R",
   "pygments_lexer": "r",
   "version": "3.4.3"
  }
 },
 "nbformat": 4,
 "nbformat_minor": 2
}
